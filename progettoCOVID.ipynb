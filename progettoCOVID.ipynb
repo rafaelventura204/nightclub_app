{
  "nbformat": 4,
  "nbformat_minor": 0,
  "metadata": {
    "colab": {
      "provenance": [],
      "collapsed_sections": [
        "jNmbVVNhQfLQ",
        "AQ7naAguYzpN",
        "eShs0U5EZVCG",
        "M3a2N1J_aGF9",
        "xXIVz3qMaaZi",
        "lXzXEIgsghQg",
        "yyOEAIUcg7Bw",
        "6v-zfDbeg7cv",
        "4x43zYXrhU5g",
        "Oc4SO9o9lJoT",
        "WXfaZDH6lj4z",
        "_u-zcof4lzG0",
        "UjE_VC06l3Md",
        "c2N-Y4j8maTn",
        "0ncp3GdFnJXA",
        "x0X-qh5knrLS",
        "XdVXyM8Wn1VJ",
        "0ppSuIM1oARM",
        "UoZU7JhXoK2s",
        "WfnLnnsgpp4e"
      ],
      "toc_visible": true,
      "include_colab_link": true
    },
    "kernelspec": {
      "name": "python3",
      "display_name": "Python 3"
    }
  },
  "cells": [
    {
      "cell_type": "markdown",
      "metadata": {
        "id": "view-in-github",
        "colab_type": "text"
      },
      "source": [
        "<a href=\"https://colab.research.google.com/github/rafaelventura204/nightclub_app/blob/master/progettoCOVID.ipynb\" target=\"_parent\"><img src=\"https://colab.research.google.com/assets/colab-badge.svg\" alt=\"Open In Colab\"/></a>"
      ]
    },
    {
      "cell_type": "markdown",
      "metadata": {
        "id": "jNmbVVNhQfLQ"
      },
      "source": [
        "##Progetto COVID19\n"
      ]
    },
    {
      "cell_type": "markdown",
      "metadata": {
        "id": "HAgUcUVrQvAo"
      },
      "source": [
        "Importiamo e visualizziamo il dataset"
      ]
    },
    {
      "cell_type": "code",
      "metadata": {
        "id": "SFKChlbgQpoU",
        "colab": {
          "base_uri": "https://localhost:8080/",
          "height": 479
        },
        "outputId": "fbdbb499-e17b-45fa-d516-035798a775bb"
      },
      "source": [
        "import pandas as pd\n",
        "import numpy as np\n",
        "import scipy.stats as st\n",
        "import matplotlib.pyplot as plt\n",
        "%matplotlib inline\n",
        "\n",
        "\n",
        "covid = pd.read_csv('data_covnet_score.csv',sep=\",\")\n",
        "covid\n"
      ],
      "execution_count": null,
      "outputs": [
        {
          "output_type": "execute_result",
          "data": {
            "text/html": [
              "<div>\n",
              "<style scoped>\n",
              "    .dataframe tbody tr th:only-of-type {\n",
              "        vertical-align: middle;\n",
              "    }\n",
              "\n",
              "    .dataframe tbody tr th {\n",
              "        vertical-align: top;\n",
              "    }\n",
              "\n",
              "    .dataframe thead th {\n",
              "        text-align: right;\n",
              "    }\n",
              "</style>\n",
              "<table border=\"1\" class=\"dataframe\">\n",
              "  <thead>\n",
              "    <tr style=\"text-align: right;\">\n",
              "      <th></th>\n",
              "      <th>ID</th>\n",
              "      <th>LABEL.2</th>\n",
              "      <th>LABEL.4</th>\n",
              "      <th>ORD-FEVER</th>\n",
              "      <th>ORD-COUGH</th>\n",
              "      <th>ORD-DYSPNEA</th>\n",
              "      <th>ORD-IR</th>\n",
              "      <th>ORD-MYALGIA</th>\n",
              "      <th>ORD-OTHER</th>\n",
              "      <th>ORD-AGEUSIA-ANOSMIA</th>\n",
              "      <th>ORD-TORACIC PAIN</th>\n",
              "      <th>ORD-SYNCOPE</th>\n",
              "      <th>ORD-ASTENIA</th>\n",
              "      <th>ORD-VOMITING-NAUSEA</th>\n",
              "      <th>ORD-DIARRHEA</th>\n",
              "      <th>ORD-HEADACHE</th>\n",
              "      <th>ORD-FARINGODINIA</th>\n",
              "      <th>ORD-PNEUMO.ASTHMA</th>\n",
              "      <th>ORD-PNEUMO.BPCO</th>\n",
              "      <th>ORD-PNEUMO.INTERSTITIAL.DISEASE</th>\n",
              "      <th>ORD-NEOPLASIA.last.5.years</th>\n",
              "      <th>ORD-SMOKE</th>\n",
              "      <th>ORD-IA</th>\n",
              "      <th>ORD-CARDIOVASCULAR.pathologies</th>\n",
              "      <th>ORD-DIABETES</th>\n",
              "      <th>ORD-OBESITY</th>\n",
              "      <th>ORD-CEREBRAL.STROKE</th>\n",
              "      <th>ORD-other.IR</th>\n",
              "      <th>ORD-HEPATOPATHY</th>\n",
              "      <th>ORD-DEMENTHIA</th>\n",
              "      <th>CAT-SEX</th>\n",
              "      <th>INT-AGE</th>\n",
              "      <th>INT-SYMPTOMS.days</th>\n",
              "      <th>INT-usa.radio.SCORE</th>\n",
              "      <th>INT-radio.SCORE</th>\n",
              "      <th>INT-PaO2.PF</th>\n",
              "      <th>INT-SpO2.in.FA</th>\n",
              "      <th>INT-LDH</th>\n",
              "      <th>INT-AST</th>\n",
              "      <th>INT-ALT</th>\n",
              "      <th>INT-PLATELETS</th>\n",
              "      <th>NUM-WHITE.blood.cells</th>\n",
              "      <th>NUM-RED.blood.cells</th>\n",
              "      <th>NUM-LYMPHOCYTE</th>\n",
              "      <th>NUM-PERC.LIMPHOCYTE</th>\n",
              "      <th>NUM-PCR</th>\n",
              "      <th>NUM-HEMOGLOBIN</th>\n",
              "      <th>NUM-Hematocrit</th>\n",
              "      <th>NUM-GEO.score</th>\n",
              "      <th>NUM-OPC.score</th>\n",
              "    </tr>\n",
              "  </thead>\n",
              "  <tbody>\n",
              "    <tr>\n",
              "      <th>0</th>\n",
              "      <td>1</td>\n",
              "      <td>0</td>\n",
              "      <td>0</td>\n",
              "      <td>1</td>\n",
              "      <td>1</td>\n",
              "      <td>0</td>\n",
              "      <td>0</td>\n",
              "      <td>0</td>\n",
              "      <td>0</td>\n",
              "      <td>0</td>\n",
              "      <td>0</td>\n",
              "      <td>0</td>\n",
              "      <td>1</td>\n",
              "      <td>0</td>\n",
              "      <td>0</td>\n",
              "      <td>0</td>\n",
              "      <td>0</td>\n",
              "      <td>0</td>\n",
              "      <td>0</td>\n",
              "      <td>0</td>\n",
              "      <td>0</td>\n",
              "      <td>1</td>\n",
              "      <td>0</td>\n",
              "      <td>0</td>\n",
              "      <td>0</td>\n",
              "      <td>0</td>\n",
              "      <td>0</td>\n",
              "      <td>0</td>\n",
              "      <td>0</td>\n",
              "      <td>0</td>\n",
              "      <td>0</td>\n",
              "      <td>38</td>\n",
              "      <td>30.0</td>\n",
              "      <td>1</td>\n",
              "      <td>6</td>\n",
              "      <td>NaN</td>\n",
              "      <td>96.0</td>\n",
              "      <td>NaN</td>\n",
              "      <td>NaN</td>\n",
              "      <td>38.0</td>\n",
              "      <td>137.0</td>\n",
              "      <td>4.29</td>\n",
              "      <td>4.74</td>\n",
              "      <td>2.22</td>\n",
              "      <td>51.7</td>\n",
              "      <td>0.28</td>\n",
              "      <td>14.0</td>\n",
              "      <td>39.6</td>\n",
              "      <td>0.252804</td>\n",
              "      <td>0.226420</td>\n",
              "    </tr>\n",
              "    <tr>\n",
              "      <th>1</th>\n",
              "      <td>2</td>\n",
              "      <td>1</td>\n",
              "      <td>2</td>\n",
              "      <td>1</td>\n",
              "      <td>1</td>\n",
              "      <td>1</td>\n",
              "      <td>0</td>\n",
              "      <td>0</td>\n",
              "      <td>0</td>\n",
              "      <td>0</td>\n",
              "      <td>0</td>\n",
              "      <td>0</td>\n",
              "      <td>0</td>\n",
              "      <td>1</td>\n",
              "      <td>1</td>\n",
              "      <td>0</td>\n",
              "      <td>0</td>\n",
              "      <td>0</td>\n",
              "      <td>0</td>\n",
              "      <td>0</td>\n",
              "      <td>0</td>\n",
              "      <td>0</td>\n",
              "      <td>0</td>\n",
              "      <td>0</td>\n",
              "      <td>0</td>\n",
              "      <td>0</td>\n",
              "      <td>0</td>\n",
              "      <td>0</td>\n",
              "      <td>0</td>\n",
              "      <td>0</td>\n",
              "      <td>0</td>\n",
              "      <td>49</td>\n",
              "      <td>5.0</td>\n",
              "      <td>5</td>\n",
              "      <td>13</td>\n",
              "      <td>132.0</td>\n",
              "      <td>88.0</td>\n",
              "      <td>NaN</td>\n",
              "      <td>90.0</td>\n",
              "      <td>53.0</td>\n",
              "      <td>209.0</td>\n",
              "      <td>7.79</td>\n",
              "      <td>4.67</td>\n",
              "      <td>0.83</td>\n",
              "      <td>10.7</td>\n",
              "      <td>15.69</td>\n",
              "      <td>14.1</td>\n",
              "      <td>38.2</td>\n",
              "      <td>0.589215</td>\n",
              "      <td>0.545361</td>\n",
              "    </tr>\n",
              "    <tr>\n",
              "      <th>2</th>\n",
              "      <td>3</td>\n",
              "      <td>0</td>\n",
              "      <td>0</td>\n",
              "      <td>1</td>\n",
              "      <td>1</td>\n",
              "      <td>0</td>\n",
              "      <td>0</td>\n",
              "      <td>1</td>\n",
              "      <td>0</td>\n",
              "      <td>0</td>\n",
              "      <td>0</td>\n",
              "      <td>0</td>\n",
              "      <td>0</td>\n",
              "      <td>0</td>\n",
              "      <td>0</td>\n",
              "      <td>0</td>\n",
              "      <td>0</td>\n",
              "      <td>0</td>\n",
              "      <td>0</td>\n",
              "      <td>0</td>\n",
              "      <td>0</td>\n",
              "      <td>0</td>\n",
              "      <td>1</td>\n",
              "      <td>0</td>\n",
              "      <td>0</td>\n",
              "      <td>0</td>\n",
              "      <td>0</td>\n",
              "      <td>0</td>\n",
              "      <td>0</td>\n",
              "      <td>0</td>\n",
              "      <td>0</td>\n",
              "      <td>41</td>\n",
              "      <td>7.0</td>\n",
              "      <td>1</td>\n",
              "      <td>5</td>\n",
              "      <td>NaN</td>\n",
              "      <td>95.0</td>\n",
              "      <td>228.0</td>\n",
              "      <td>33.0</td>\n",
              "      <td>41.0</td>\n",
              "      <td>314.0</td>\n",
              "      <td>6.10</td>\n",
              "      <td>5.27</td>\n",
              "      <td>1.95</td>\n",
              "      <td>32.0</td>\n",
              "      <td>2.06</td>\n",
              "      <td>15.0</td>\n",
              "      <td>43.0</td>\n",
              "      <td>0.530503</td>\n",
              "      <td>0.539291</td>\n",
              "    </tr>\n",
              "    <tr>\n",
              "      <th>3</th>\n",
              "      <td>4</td>\n",
              "      <td>0</td>\n",
              "      <td>1</td>\n",
              "      <td>1</td>\n",
              "      <td>1</td>\n",
              "      <td>1</td>\n",
              "      <td>1</td>\n",
              "      <td>0</td>\n",
              "      <td>0</td>\n",
              "      <td>0</td>\n",
              "      <td>0</td>\n",
              "      <td>1</td>\n",
              "      <td>1</td>\n",
              "      <td>0</td>\n",
              "      <td>0</td>\n",
              "      <td>0</td>\n",
              "      <td>0</td>\n",
              "      <td>0</td>\n",
              "      <td>0</td>\n",
              "      <td>0</td>\n",
              "      <td>1</td>\n",
              "      <td>0</td>\n",
              "      <td>1</td>\n",
              "      <td>1</td>\n",
              "      <td>0</td>\n",
              "      <td>1</td>\n",
              "      <td>0</td>\n",
              "      <td>0</td>\n",
              "      <td>0</td>\n",
              "      <td>0</td>\n",
              "      <td>0</td>\n",
              "      <td>67</td>\n",
              "      <td>3.0</td>\n",
              "      <td>1</td>\n",
              "      <td>6</td>\n",
              "      <td>174.0</td>\n",
              "      <td>NaN</td>\n",
              "      <td>243.0</td>\n",
              "      <td>NaN</td>\n",
              "      <td>16.0</td>\n",
              "      <td>233.0</td>\n",
              "      <td>10.34</td>\n",
              "      <td>5.44</td>\n",
              "      <td>1.72</td>\n",
              "      <td>16.6</td>\n",
              "      <td>0.98</td>\n",
              "      <td>14.8</td>\n",
              "      <td>44.0</td>\n",
              "      <td>0.561207</td>\n",
              "      <td>0.556386</td>\n",
              "    </tr>\n",
              "    <tr>\n",
              "      <th>4</th>\n",
              "      <td>5</td>\n",
              "      <td>0</td>\n",
              "      <td>0</td>\n",
              "      <td>0</td>\n",
              "      <td>1</td>\n",
              "      <td>0</td>\n",
              "      <td>0</td>\n",
              "      <td>0</td>\n",
              "      <td>0</td>\n",
              "      <td>0</td>\n",
              "      <td>0</td>\n",
              "      <td>0</td>\n",
              "      <td>0</td>\n",
              "      <td>0</td>\n",
              "      <td>0</td>\n",
              "      <td>0</td>\n",
              "      <td>1</td>\n",
              "      <td>1</td>\n",
              "      <td>0</td>\n",
              "      <td>0</td>\n",
              "      <td>0</td>\n",
              "      <td>0</td>\n",
              "      <td>0</td>\n",
              "      <td>0</td>\n",
              "      <td>0</td>\n",
              "      <td>0</td>\n",
              "      <td>0</td>\n",
              "      <td>0</td>\n",
              "      <td>0</td>\n",
              "      <td>0</td>\n",
              "      <td>1</td>\n",
              "      <td>39</td>\n",
              "      <td>2.0</td>\n",
              "      <td>0</td>\n",
              "      <td>4</td>\n",
              "      <td>NaN</td>\n",
              "      <td>96.0</td>\n",
              "      <td>NaN</td>\n",
              "      <td>66.0</td>\n",
              "      <td>90.0</td>\n",
              "      <td>189.0</td>\n",
              "      <td>4.75</td>\n",
              "      <td>4.14</td>\n",
              "      <td>2.47</td>\n",
              "      <td>52.0</td>\n",
              "      <td>0.51</td>\n",
              "      <td>13.2</td>\n",
              "      <td>37.0</td>\n",
              "      <td>0.256524</td>\n",
              "      <td>0.219800</td>\n",
              "    </tr>\n",
              "    <tr>\n",
              "      <th>...</th>\n",
              "      <td>...</td>\n",
              "      <td>...</td>\n",
              "      <td>...</td>\n",
              "      <td>...</td>\n",
              "      <td>...</td>\n",
              "      <td>...</td>\n",
              "      <td>...</td>\n",
              "      <td>...</td>\n",
              "      <td>...</td>\n",
              "      <td>...</td>\n",
              "      <td>...</td>\n",
              "      <td>...</td>\n",
              "      <td>...</td>\n",
              "      <td>...</td>\n",
              "      <td>...</td>\n",
              "      <td>...</td>\n",
              "      <td>...</td>\n",
              "      <td>...</td>\n",
              "      <td>...</td>\n",
              "      <td>...</td>\n",
              "      <td>...</td>\n",
              "      <td>...</td>\n",
              "      <td>...</td>\n",
              "      <td>...</td>\n",
              "      <td>...</td>\n",
              "      <td>...</td>\n",
              "      <td>...</td>\n",
              "      <td>...</td>\n",
              "      <td>...</td>\n",
              "      <td>...</td>\n",
              "      <td>...</td>\n",
              "      <td>...</td>\n",
              "      <td>...</td>\n",
              "      <td>...</td>\n",
              "      <td>...</td>\n",
              "      <td>...</td>\n",
              "      <td>...</td>\n",
              "      <td>...</td>\n",
              "      <td>...</td>\n",
              "      <td>...</td>\n",
              "      <td>...</td>\n",
              "      <td>...</td>\n",
              "      <td>...</td>\n",
              "      <td>...</td>\n",
              "      <td>...</td>\n",
              "      <td>...</td>\n",
              "      <td>...</td>\n",
              "      <td>...</td>\n",
              "      <td>...</td>\n",
              "      <td>...</td>\n",
              "    </tr>\n",
              "    <tr>\n",
              "      <th>296</th>\n",
              "      <td>297</td>\n",
              "      <td>1</td>\n",
              "      <td>3</td>\n",
              "      <td>1</td>\n",
              "      <td>1</td>\n",
              "      <td>1</td>\n",
              "      <td>1</td>\n",
              "      <td>0</td>\n",
              "      <td>0</td>\n",
              "      <td>0</td>\n",
              "      <td>0</td>\n",
              "      <td>0</td>\n",
              "      <td>0</td>\n",
              "      <td>0</td>\n",
              "      <td>0</td>\n",
              "      <td>0</td>\n",
              "      <td>0</td>\n",
              "      <td>0</td>\n",
              "      <td>0</td>\n",
              "      <td>0</td>\n",
              "      <td>0</td>\n",
              "      <td>0</td>\n",
              "      <td>0</td>\n",
              "      <td>0</td>\n",
              "      <td>0</td>\n",
              "      <td>0</td>\n",
              "      <td>0</td>\n",
              "      <td>0</td>\n",
              "      <td>0</td>\n",
              "      <td>0</td>\n",
              "      <td>0</td>\n",
              "      <td>59</td>\n",
              "      <td>7.0</td>\n",
              "      <td>4</td>\n",
              "      <td>10</td>\n",
              "      <td>260.0</td>\n",
              "      <td>88.0</td>\n",
              "      <td>NaN</td>\n",
              "      <td>103.0</td>\n",
              "      <td>67.0</td>\n",
              "      <td>225.0</td>\n",
              "      <td>9.64</td>\n",
              "      <td>4.68</td>\n",
              "      <td>6.20</td>\n",
              "      <td>0.6</td>\n",
              "      <td>8.91</td>\n",
              "      <td>14.3</td>\n",
              "      <td>39.9</td>\n",
              "      <td>0.589430</td>\n",
              "      <td>0.613641</td>\n",
              "    </tr>\n",
              "    <tr>\n",
              "      <th>297</th>\n",
              "      <td>298</td>\n",
              "      <td>0</td>\n",
              "      <td>0</td>\n",
              "      <td>1</td>\n",
              "      <td>1</td>\n",
              "      <td>0</td>\n",
              "      <td>0</td>\n",
              "      <td>0</td>\n",
              "      <td>0</td>\n",
              "      <td>0</td>\n",
              "      <td>0</td>\n",
              "      <td>0</td>\n",
              "      <td>0</td>\n",
              "      <td>0</td>\n",
              "      <td>0</td>\n",
              "      <td>0</td>\n",
              "      <td>0</td>\n",
              "      <td>0</td>\n",
              "      <td>0</td>\n",
              "      <td>0</td>\n",
              "      <td>0</td>\n",
              "      <td>0</td>\n",
              "      <td>0</td>\n",
              "      <td>0</td>\n",
              "      <td>0</td>\n",
              "      <td>0</td>\n",
              "      <td>0</td>\n",
              "      <td>0</td>\n",
              "      <td>0</td>\n",
              "      <td>0</td>\n",
              "      <td>1</td>\n",
              "      <td>36</td>\n",
              "      <td>7.0</td>\n",
              "      <td>0</td>\n",
              "      <td>2</td>\n",
              "      <td>424.0</td>\n",
              "      <td>98.0</td>\n",
              "      <td>NaN</td>\n",
              "      <td>NaN</td>\n",
              "      <td>17.0</td>\n",
              "      <td>288.0</td>\n",
              "      <td>8.74</td>\n",
              "      <td>4.37</td>\n",
              "      <td>2.90</td>\n",
              "      <td>33.2</td>\n",
              "      <td>0.05</td>\n",
              "      <td>13.8</td>\n",
              "      <td>39.5</td>\n",
              "      <td>0.292250</td>\n",
              "      <td>0.306208</td>\n",
              "    </tr>\n",
              "    <tr>\n",
              "      <th>298</th>\n",
              "      <td>299</td>\n",
              "      <td>0</td>\n",
              "      <td>0</td>\n",
              "      <td>1</td>\n",
              "      <td>1</td>\n",
              "      <td>1</td>\n",
              "      <td>0</td>\n",
              "      <td>0</td>\n",
              "      <td>0</td>\n",
              "      <td>0</td>\n",
              "      <td>0</td>\n",
              "      <td>0</td>\n",
              "      <td>0</td>\n",
              "      <td>0</td>\n",
              "      <td>0</td>\n",
              "      <td>0</td>\n",
              "      <td>1</td>\n",
              "      <td>0</td>\n",
              "      <td>0</td>\n",
              "      <td>0</td>\n",
              "      <td>0</td>\n",
              "      <td>0</td>\n",
              "      <td>0</td>\n",
              "      <td>0</td>\n",
              "      <td>0</td>\n",
              "      <td>0</td>\n",
              "      <td>0</td>\n",
              "      <td>0</td>\n",
              "      <td>0</td>\n",
              "      <td>0</td>\n",
              "      <td>1</td>\n",
              "      <td>56</td>\n",
              "      <td>2.0</td>\n",
              "      <td>0</td>\n",
              "      <td>4</td>\n",
              "      <td>NaN</td>\n",
              "      <td>97.0</td>\n",
              "      <td>NaN</td>\n",
              "      <td>NaN</td>\n",
              "      <td>21.0</td>\n",
              "      <td>164.0</td>\n",
              "      <td>4.44</td>\n",
              "      <td>4.17</td>\n",
              "      <td>1.00</td>\n",
              "      <td>22.5</td>\n",
              "      <td>0.23</td>\n",
              "      <td>10.2</td>\n",
              "      <td>30.2</td>\n",
              "      <td>0.416674</td>\n",
              "      <td>0.370768</td>\n",
              "    </tr>\n",
              "    <tr>\n",
              "      <th>299</th>\n",
              "      <td>300</td>\n",
              "      <td>0</td>\n",
              "      <td>1</td>\n",
              "      <td>1</td>\n",
              "      <td>1</td>\n",
              "      <td>1</td>\n",
              "      <td>0</td>\n",
              "      <td>0</td>\n",
              "      <td>0</td>\n",
              "      <td>0</td>\n",
              "      <td>0</td>\n",
              "      <td>0</td>\n",
              "      <td>0</td>\n",
              "      <td>0</td>\n",
              "      <td>0</td>\n",
              "      <td>0</td>\n",
              "      <td>0</td>\n",
              "      <td>0</td>\n",
              "      <td>0</td>\n",
              "      <td>0</td>\n",
              "      <td>1</td>\n",
              "      <td>0</td>\n",
              "      <td>0</td>\n",
              "      <td>0</td>\n",
              "      <td>0</td>\n",
              "      <td>0</td>\n",
              "      <td>0</td>\n",
              "      <td>0</td>\n",
              "      <td>0</td>\n",
              "      <td>0</td>\n",
              "      <td>1</td>\n",
              "      <td>66</td>\n",
              "      <td>3.0</td>\n",
              "      <td>3</td>\n",
              "      <td>10</td>\n",
              "      <td>310.0</td>\n",
              "      <td>85.0</td>\n",
              "      <td>387.0</td>\n",
              "      <td>NaN</td>\n",
              "      <td>35.0</td>\n",
              "      <td>7.0</td>\n",
              "      <td>3.85</td>\n",
              "      <td>2.56</td>\n",
              "      <td>0.81</td>\n",
              "      <td>21.0</td>\n",
              "      <td>24.94</td>\n",
              "      <td>7.9</td>\n",
              "      <td>21.0</td>\n",
              "      <td>0.582898</td>\n",
              "      <td>0.586137</td>\n",
              "    </tr>\n",
              "    <tr>\n",
              "      <th>300</th>\n",
              "      <td>301</td>\n",
              "      <td>0</td>\n",
              "      <td>0</td>\n",
              "      <td>1</td>\n",
              "      <td>0</td>\n",
              "      <td>0</td>\n",
              "      <td>0</td>\n",
              "      <td>0</td>\n",
              "      <td>1</td>\n",
              "      <td>0</td>\n",
              "      <td>1</td>\n",
              "      <td>0</td>\n",
              "      <td>0</td>\n",
              "      <td>0</td>\n",
              "      <td>0</td>\n",
              "      <td>0</td>\n",
              "      <td>0</td>\n",
              "      <td>0</td>\n",
              "      <td>0</td>\n",
              "      <td>0</td>\n",
              "      <td>0</td>\n",
              "      <td>0</td>\n",
              "      <td>0</td>\n",
              "      <td>0</td>\n",
              "      <td>0</td>\n",
              "      <td>0</td>\n",
              "      <td>0</td>\n",
              "      <td>0</td>\n",
              "      <td>0</td>\n",
              "      <td>0</td>\n",
              "      <td>1</td>\n",
              "      <td>32</td>\n",
              "      <td>2.0</td>\n",
              "      <td>0</td>\n",
              "      <td>3</td>\n",
              "      <td>486.0</td>\n",
              "      <td>98.0</td>\n",
              "      <td>NaN</td>\n",
              "      <td>NaN</td>\n",
              "      <td>17.0</td>\n",
              "      <td>249.0</td>\n",
              "      <td>4.01</td>\n",
              "      <td>4.33</td>\n",
              "      <td>0.84</td>\n",
              "      <td>20.9</td>\n",
              "      <td>0.24</td>\n",
              "      <td>11.0</td>\n",
              "      <td>33.2</td>\n",
              "      <td>0.242341</td>\n",
              "      <td>0.258830</td>\n",
              "    </tr>\n",
              "  </tbody>\n",
              "</table>\n",
              "<p>301 rows × 50 columns</p>\n",
              "</div>"
            ],
            "text/plain": [
              "      ID  LABEL.2  LABEL.4  ...  NUM-Hematocrit  NUM-GEO.score  NUM-OPC.score\n",
              "0      1        0        0  ...            39.6       0.252804       0.226420\n",
              "1      2        1        2  ...            38.2       0.589215       0.545361\n",
              "2      3        0        0  ...            43.0       0.530503       0.539291\n",
              "3      4        0        1  ...            44.0       0.561207       0.556386\n",
              "4      5        0        0  ...            37.0       0.256524       0.219800\n",
              "..   ...      ...      ...  ...             ...            ...            ...\n",
              "296  297        1        3  ...            39.9       0.589430       0.613641\n",
              "297  298        0        0  ...            39.5       0.292250       0.306208\n",
              "298  299        0        0  ...            30.2       0.416674       0.370768\n",
              "299  300        0        1  ...            21.0       0.582898       0.586137\n",
              "300  301        0        0  ...            33.2       0.242341       0.258830\n",
              "\n",
              "[301 rows x 50 columns]"
            ]
          },
          "metadata": {
            "tags": []
          },
          "execution_count": 153
        }
      ]
    },
    {
      "cell_type": "markdown",
      "metadata": {
        "id": "S_MrzTz-asIa"
      },
      "source": [
        "# Confronto Sintomi in base alla Gravità"
      ]
    },
    {
      "cell_type": "code",
      "metadata": {
        "id": "_fekXLEOeXEq",
        "colab": {
          "base_uri": "https://localhost:8080/",
          "height": 647
        },
        "outputId": "de595a5b-318f-4ef9-8094-ed6aafbc220a"
      },
      "source": [
        "sintomi0.plot(marker='o',linestyle=\"\",color='red', legend=True, label=' Gravità 0')\n",
        "sintomi1.plot(marker='o',linestyle=\"\",color='green', legend=True, label=' Gravità 1')\n",
        "sintomi2.plot(marker='o',linestyle=\"\",color='blue', legend=True, label=' Gravità 2')\n",
        "sintomi3.plot(marker='o',linestyle=\"\",color='violet', legend=True, label=' Gravità 3')\n",
        "\n",
        "plt.xticks(y_pos, objects2)\n",
        "\n",
        "plt.title('Percentuali Sintomi Pazienti Gravità 0-1-2-3')\n",
        "plt.xticks(rotation=90)\n",
        "fig = plt.gcf()\n",
        "fig.set_size_inches(10,8)\n",
        "plt.ylabel('Percentuale %')\n",
        "plt.grid(linestyle=\"--\", linewidth=1, axis = 'y')\n",
        "\n",
        "plt.savefig(\"GraficoSintomi_2.png\")\n",
        "plt.show()"
      ],
      "execution_count": null,
      "outputs": [
        {
          "output_type": "display_data",
          "data": {
            "image/png": "[encoded data removed]",
            "text/plain": [
              "<Figure size 720x576 with 1 Axes>"
            ]
          },
          "metadata": {
            "tags": [],
            "needs_background": "light"
          }
        }
      ]
    },
    {
      "cell_type": "markdown",
      "metadata": {
        "id": "lopl5hEGhgw4"
      },
      "source": [
        "# Confronto Malattie in base alla Gravità"
      ]
    },
    {
      "cell_type": "code",
      "metadata": {
        "id": "hW4QY9EahlDh",
        "colab": {
          "base_uri": "https://localhost:8080/",
          "height": 647
        },
        "outputId": "8f82954a-c7a2-4d28-928d-6fa450dd6d36"
      },
      "source": [
        "malattie0.plot(marker='o',linestyle=\"\",color='red', legend=True, label=' Gravità 0')\n",
        "malattie1.plot(marker='o',linestyle=\"\",color='green', legend=True, label=' Gravità 1')\n",
        "malattie2.plot(marker='o',linestyle=\"\",color='blue', legend=True, label=' Gravità 2')\n",
        "malattie3.plot(marker='o',linestyle=\"\",color='violet', legend=True, label=' Gravità 3')\n",
        "\n",
        "plt.xticks(y_pos, objects2)\n",
        "\n",
        "plt.title('Percentuali Malattie Pazienti Gravità 0-1-2-3')\n",
        "plt.xticks(rotation=90)\n",
        "fig = plt.gcf()\n",
        "fig.set_size_inches(10,8)\n",
        "plt.ylabel('Percentuale %')\n",
        "plt.grid(linestyle=\"--\", linewidth=1, axis = 'y')\n",
        "\n",
        "plt.savefig(\"GraficoMalatie_2.png\")\n",
        "plt.show()"
      ],
      "execution_count": null,
      "outputs": [
        {
          "output_type": "display_data",
          "data": {
            "image/png": "[encoded data removed]",
            "text/plain": [
              "<Figure size 720x576 with 1 Axes>"
            ]
          },
          "metadata": {
            "tags": [],
            "needs_background": "light"
          }
        }
      ]
    },
    {
      "cell_type": "markdown",
      "metadata": {
        "id": "Oc4SO9o9lJoT"
      },
      "source": [
        "# Sintomi Pazienti Sopravvissuti"
      ]
    },
    {
      "cell_type": "code",
      "metadata": {
        "id": "Q030QmWAlR-F"
      },
      "source": [
        "vivo = covid.loc[covid['LABEL.2']==0]\n",
        "casi_totali = len(vivo)\n",
        "\n",
        "covid_ = covid.iloc[:,1:30]\n",
        "\n",
        "casi_favorevoli = len(vivo.loc[vivo['ORD-FEVER']==1])\n",
        "data = pd.DataFrame(columns =['A','B'])\n",
        "data.loc[0]=['FEVER',casi_favorevoli*100/ casi_totali]\n",
        "\n",
        "casi_favorevoli = len(vivo.loc[vivo['ORD-COUGH']==1])\n",
        "data.loc[1]= ['COUGH',casi_favorevoli*100/ casi_totali]\n",
        "\n",
        "casi_favorevoli = len(vivo.loc[vivo['ORD-DYSPNEA']==1])\n",
        "data.loc[2]= ['DYSPNEA',casi_favorevoli*100/ casi_totali]\n",
        "\n",
        "casi_favorevoli = len(vivo.loc[vivo['ORD-IR']==1])\n",
        "data.loc[3]= ['IR',casi_favorevoli*100/ casi_totali]\n",
        "\n",
        "casi_favorevoli = len(vivo.loc[vivo['ORD-MYALGIA']==1])\n",
        "data.loc[4]= ['MYALGIA',casi_favorevoli*100/ casi_totali]\n",
        "\n",
        "casi_favorevoli = len(vivo.loc[vivo['ORD-OTHER']==1])\n",
        "data.loc[5]= ['OTHER',casi_favorevoli*100/ casi_totali]\n",
        "\n",
        "casi_favorevoli = len(vivo.loc[vivo['ORD-AGEUSIA-ANOSMIA']==1])\n",
        "data.loc[6]= ['AGEUSIA-ANOSMIA',casi_favorevoli*100/ casi_totali]\n",
        "\n",
        "casi_favorevoli = len(vivo.loc[vivo['ORD-TORACIC PAIN']==1])\n",
        "data.loc[7]= ['TORACIC PAIN',casi_favorevoli*100/ casi_totali]\n",
        "\n",
        "casi_favorevoli = len(vivo.loc[vivo['ORD-SYNCOPE']==1])\n",
        "data.loc[8]= ['TSYNCOPE',casi_favorevoli*100/ casi_totali]\n",
        "\n",
        "casi_favorevoli = len(vivo.loc[vivo['ORD-ASTENIA']==1])\n",
        "data.loc[9]= ['ASTENIA',casi_favorevoli*100/ casi_totali]\n",
        "\n",
        "casi_favorevoli = len(vivo.loc[vivo['ORD-VOMITING-NAUSEA']==1])\n",
        "data.loc[10]= ['VOMITING-NAUSEA',casi_favorevoli*100/ casi_totali]\n",
        "\n",
        "casi_favorevoli = len(vivo.loc[vivo['ORD-DIARRHEA']==1])\n",
        "data.loc[11]= ['DIARRHEA',casi_favorevoli*100/ casi_totali]\n",
        "\n",
        "casi_favorevoli = len(vivo.loc[vivo['ORD-HEADACHE']==1])\n",
        "data.loc[12]= ['HEADACHE',casi_favorevoli*100/ casi_totali]\n",
        "\n",
        "casi_favorevoli = len(vivo.loc[vivo['ORD-FARINGODINIA']==1])\n",
        "data.loc[13]= ['FARINGODINIA',casi_favorevoli*100/ casi_totali]\n",
        "\n",
        "objects = data['B']\n",
        "objects2= data['A']\n",
        "y_pos = np.arange(len(objects))\n",
        "sintomi = objects\n",
        "\n"
      ],
      "execution_count": null,
      "outputs": []
    },
    {
      "cell_type": "code",
      "metadata": {
        "id": "NaIxG_v2lXvV",
        "colab": {
          "base_uri": "https://localhost:8080/",
          "height": 692
        },
        "outputId": "1d1250b0-493e-4c1f-cef7-f2de236d7137"
      },
      "source": [
        "ww = 0.7\n",
        "\n",
        "plt.bar(y_pos, sintomi, align='center', alpha=1, width=ww, color='yellow')\n",
        "\n",
        "plt.bar([i+0.25*ww for i in y_pos], sintomi, align='center', alpha=1, width=0.5*ww, color='green')\n",
        "\n",
        "plt.xticks(y_pos+ww/2, objects2)\n",
        "plt.title('Percentuali Sintomi Pazienti Sopravvissuti')\n",
        "plt.xticks(rotation=75)\n",
        "plt.ylabel('Percentuale %')\n",
        "fig = plt.gcf()\n",
        "fig.set_size_inches(12,10)\n",
        "plt.grid(linestyle='--', linewidth=1, axis = 'y')\n",
        "\n",
        "plt.savefig(\"Sintomi_Sopravissuti.png\")\n",
        "plt.show()\n",
        "\n"
      ],
      "execution_count": null,
      "outputs": [
        {
          "output_type": "display_data",
          "data": {
            "image/png": "[encoded data removed]",
            "text/plain": [
              "<Figure size 864x720 with 1 Axes>"
            ]
          },
          "metadata": {
            "tags": [],
            "needs_background": "light"
          }
        }
      ]
    },
    {
      "cell_type": "markdown",
      "metadata": {
        "id": "WXfaZDH6lj4z"
      },
      "source": [
        "# Sintomi Pazienti Deceduti"
      ]
    },
    {
      "cell_type": "code",
      "metadata": {
        "id": "dRPmpE6uloaG"
      },
      "source": [
        "deceduto = covid.loc[covid['LABEL.2']==1]\n",
        "casi_totali = len(deceduto)\n",
        "\n",
        "covid_ = covid.iloc[:,1:30]\n",
        "\n",
        "casi_favorevoli = len(deceduto.loc[deceduto['ORD-FEVER']==1])\n",
        "data = pd.DataFrame(columns =['A','B'])\n",
        "data.loc[0]=['FEVER',casi_favorevoli*100/ casi_totali]\n",
        "\n",
        "casi_favorevoli = len(deceduto.loc[deceduto['ORD-COUGH']==1])\n",
        "data.loc[1]= ['COUGH',casi_favorevoli*100/ casi_totali]\n",
        "\n",
        "casi_favorevoli = len(deceduto.loc[deceduto['ORD-DYSPNEA']==1])\n",
        "data.loc[2]= ['DYSPNEA',casi_favorevoli*100/ casi_totali]\n",
        "\n",
        "casi_favorevoli = len(deceduto.loc[deceduto['ORD-IR']==1])\n",
        "data.loc[3]= ['IR',casi_favorevoli*100/ casi_totali]\n",
        "\n",
        "casi_favorevoli = len(deceduto.loc[deceduto['ORD-MYALGIA']==1])\n",
        "data.loc[4]= ['MYALGIA',casi_favorevoli*100/ casi_totali]\n",
        "\n",
        "casi_favorevoli = len(deceduto.loc[deceduto['ORD-OTHER']==1])\n",
        "data.loc[5]= ['OTHER',casi_favorevoli*100/ casi_totali]\n",
        "\n",
        "casi_favorevoli = len(deceduto.loc[deceduto['ORD-AGEUSIA-ANOSMIA']==1])\n",
        "data.loc[6]= ['AGEUSIA-ANOSMIA',casi_favorevoli*100/ casi_totali]\n",
        "\n",
        "casi_favorevoli = len(deceduto.loc[deceduto['ORD-TORACIC PAIN']==1])\n",
        "data.loc[7]= ['TORACIC PAIN',casi_favorevoli*100/ casi_totali]\n",
        "\n",
        "casi_favorevoli = len(deceduto.loc[deceduto['ORD-SYNCOPE']==1])\n",
        "data.loc[8]= ['TSYNCOPE',casi_favorevoli*100/ casi_totali]\n",
        "\n",
        "casi_favorevoli = len(deceduto.loc[deceduto['ORD-ASTENIA']==1])\n",
        "data.loc[9]= ['ASTENIA',casi_favorevoli*100/ casi_totali]\n",
        "\n",
        "casi_favorevoli = len(deceduto.loc[deceduto['ORD-VOMITING-NAUSEA']==1])\n",
        "data.loc[10]= ['VOMITING-NAUSEA',casi_favorevoli*100/ casi_totali]\n",
        "\n",
        "casi_favorevoli = len(deceduto.loc[deceduto['ORD-DIARRHEA']==1])\n",
        "data.loc[11]= ['DIARRHEA',casi_favorevoli*100/ casi_totali]\n",
        "\n",
        "casi_favorevoli = len(deceduto.loc[deceduto['ORD-HEADACHE']==1])\n",
        "data.loc[12]= ['HEADACHE',casi_favorevoli*100/ casi_totali]\n",
        "\n",
        "casi_favorevoli = len(deceduto.loc[deceduto['ORD-FARINGODINIA']==1])\n",
        "data.loc[13]= ['FARINGODINIA',casi_favorevoli*100/ casi_totali]\n",
        "\n",
        "objects = data['B']\n",
        "objects2= data['A']\n",
        "y_pos = np.arange(len(objects))\n",
        "sintomiD = objects"
      ],
      "execution_count": null,
      "outputs": []
    },
    {
      "cell_type": "code",
      "metadata": {
        "id": "2F93Cu9SlwoM",
        "colab": {
          "base_uri": "https://localhost:8080/",
          "height": 699
        },
        "outputId": "cf0077dc-f75c-4660-8d57-e2154c41096e"
      },
      "source": [
        "plt.bar(y_pos, sintomiD, align='center', alpha=1, width=0.7, color='230,97,1')\n",
        "plt.xticks(y_pos, objects2)\n",
        "plt.title('Percentuali Sintomi Pazienti Deceduti')\n",
        "plt.xticks(rotation=75)\n",
        "plt.ylabel('Percentuale %')\n",
        "fig = plt.gcf()\n",
        "fig.set_size_inches(12,10)\n",
        "plt.grid(linestyle='--', linewidth=1, axis = 'y')\n",
        "\n",
        "plt.savefig(\"Sintomi_Deceduti.png\")\n",
        "plt.show()"
      ],
      "execution_count": null,
      "outputs": [
        {
          "output_type": "error",
          "ename": "ValueError",
          "evalue": "ignored",
          "traceback": [
            "\u001b[0;31m---------------------------------------------------------------------------\u001b[0m",
            "\u001b[0;31mValueError\u001b[0m                                Traceback (most recent call last)",
            "\u001b[0;32m/usr/local/lib/python3.6/dist-packages/matplotlib/colors.py\u001b[0m in \u001b[0;36mto_rgba_array\u001b[0;34m(c, alpha)\u001b[0m\n\u001b[1;32m    324\u001b[0m         \u001b[0;32mtry\u001b[0m\u001b[0;34m:\u001b[0m\u001b[0;34m\u001b[0m\u001b[0;34m\u001b[0m\u001b[0m\n\u001b[0;32m--> 325\u001b[0;31m             \u001b[0mresult\u001b[0m \u001b[0;34m=\u001b[0m \u001b[0mnp\u001b[0m\u001b[0;34m.\u001b[0m\u001b[0marray\u001b[0m\u001b[0;34m(\u001b[0m\u001b[0;34m[\u001b[0m\u001b[0mto_rgba\u001b[0m\u001b[0;34m(\u001b[0m\u001b[0mcc\u001b[0m\u001b[0;34m,\u001b[0m \u001b[0malpha\u001b[0m\u001b[0;34m)\u001b[0m \u001b[0;32mfor\u001b[0m \u001b[0mcc\u001b[0m \u001b[0;32min\u001b[0m \u001b[0mc\u001b[0m\u001b[0;34m]\u001b[0m\u001b[0;34m)\u001b[0m\u001b[0;34m\u001b[0m\u001b[0;34m\u001b[0m\u001b[0m\n\u001b[0m\u001b[1;32m    326\u001b[0m         \u001b[0;32mexcept\u001b[0m \u001b[0mValueError\u001b[0m\u001b[0;34m:\u001b[0m\u001b[0;34m\u001b[0m\u001b[0;34m\u001b[0m\u001b[0m\n",
            "\u001b[0;32m/usr/local/lib/python3.6/dist-packages/matplotlib/colors.py\u001b[0m in \u001b[0;36m<listcomp>\u001b[0;34m(.0)\u001b[0m\n\u001b[1;32m    324\u001b[0m         \u001b[0;32mtry\u001b[0m\u001b[0;34m:\u001b[0m\u001b[0;34m\u001b[0m\u001b[0;34m\u001b[0m\u001b[0m\n\u001b[0;32m--> 325\u001b[0;31m             \u001b[0mresult\u001b[0m \u001b[0;34m=\u001b[0m \u001b[0mnp\u001b[0m\u001b[0;34m.\u001b[0m\u001b[0marray\u001b[0m\u001b[0;34m(\u001b[0m\u001b[0;34m[\u001b[0m\u001b[0mto_rgba\u001b[0m\u001b[0;34m(\u001b[0m\u001b[0mcc\u001b[0m\u001b[0;34m,\u001b[0m \u001b[0malpha\u001b[0m\u001b[0;34m)\u001b[0m \u001b[0;32mfor\u001b[0m \u001b[0mcc\u001b[0m \u001b[0;32min\u001b[0m \u001b[0mc\u001b[0m\u001b[0;34m]\u001b[0m\u001b[0;34m)\u001b[0m\u001b[0;34m\u001b[0m\u001b[0;34m\u001b[0m\u001b[0m\n\u001b[0m\u001b[1;32m    326\u001b[0m         \u001b[0;32mexcept\u001b[0m \u001b[0mValueError\u001b[0m\u001b[0;34m:\u001b[0m\u001b[0;34m\u001b[0m\u001b[0;34m\u001b[0m\u001b[0m\n",
            "\u001b[0;32m/usr/local/lib/python3.6/dist-packages/matplotlib/colors.py\u001b[0m in \u001b[0;36mto_rgba\u001b[0;34m(c, alpha)\u001b[0m\n\u001b[1;32m    184\u001b[0m     \u001b[0;32mif\u001b[0m \u001b[0mrgba\u001b[0m \u001b[0;32mis\u001b[0m \u001b[0;32mNone\u001b[0m\u001b[0;34m:\u001b[0m  \u001b[0;31m# Suppress exception chaining of cache lookup failure.\u001b[0m\u001b[0;34m\u001b[0m\u001b[0;34m\u001b[0m\u001b[0m\n\u001b[0;32m--> 185\u001b[0;31m         \u001b[0mrgba\u001b[0m \u001b[0;34m=\u001b[0m \u001b[0m_to_rgba_no_colorcycle\u001b[0m\u001b[0;34m(\u001b[0m\u001b[0mc\u001b[0m\u001b[0;34m,\u001b[0m \u001b[0malpha\u001b[0m\u001b[0;34m)\u001b[0m\u001b[0;34m\u001b[0m\u001b[0;34m\u001b[0m\u001b[0m\n\u001b[0m\u001b[1;32m    186\u001b[0m         \u001b[0;32mtry\u001b[0m\u001b[0;34m:\u001b[0m\u001b[0;34m\u001b[0m\u001b[0;34m\u001b[0m\u001b[0m\n",
            "\u001b[0;32m/usr/local/lib/python3.6/dist-packages/matplotlib/colors.py\u001b[0m in \u001b[0;36m_to_rgba_no_colorcycle\u001b[0;34m(c, alpha)\u001b[0m\n\u001b[1;32m    257\u001b[0m                 raise ValueError(\n\u001b[0;32m--> 258\u001b[0;31m                     \u001b[0;34mf\"Invalid string grayscale value {orig_c!r}. \"\u001b[0m\u001b[0;34m\u001b[0m\u001b[0;34m\u001b[0m\u001b[0m\n\u001b[0m\u001b[1;32m    259\u001b[0m                     f\"Value must be within 0-1 range\")\n",
            "\u001b[0;31mValueError\u001b[0m: Invalid string grayscale value '2'. Value must be within 0-1 range",
            "\nDuring handling of the above exception, another exception occurred:\n",
            "\u001b[0;31mValueError\u001b[0m                                Traceback (most recent call last)",
            "\u001b[0;32m<ipython-input-159-45074c2fe3bf>\u001b[0m in \u001b[0;36m<module>\u001b[0;34m()\u001b[0m\n\u001b[0;32m----> 1\u001b[0;31m \u001b[0mplt\u001b[0m\u001b[0;34m.\u001b[0m\u001b[0mbar\u001b[0m\u001b[0;34m(\u001b[0m\u001b[0my_pos\u001b[0m\u001b[0;34m,\u001b[0m \u001b[0msintomiD\u001b[0m\u001b[0;34m,\u001b[0m \u001b[0malign\u001b[0m\u001b[0;34m=\u001b[0m\u001b[0;34m'center'\u001b[0m\u001b[0;34m,\u001b[0m \u001b[0malpha\u001b[0m\u001b[0;34m=\u001b[0m\u001b[0;36m1\u001b[0m\u001b[0;34m,\u001b[0m \u001b[0mwidth\u001b[0m\u001b[0;34m=\u001b[0m\u001b[0;36m0.7\u001b[0m\u001b[0;34m,\u001b[0m \u001b[0mcolor\u001b[0m\u001b[0;34m=\u001b[0m\u001b[0;34m'230,97,1'\u001b[0m\u001b[0;34m)\u001b[0m\u001b[0;34m\u001b[0m\u001b[0;34m\u001b[0m\u001b[0m\n\u001b[0m\u001b[1;32m      2\u001b[0m \u001b[0mplt\u001b[0m\u001b[0;34m.\u001b[0m\u001b[0mxticks\u001b[0m\u001b[0;34m(\u001b[0m\u001b[0my_pos\u001b[0m\u001b[0;34m,\u001b[0m \u001b[0mobjects2\u001b[0m\u001b[0;34m)\u001b[0m\u001b[0;34m\u001b[0m\u001b[0;34m\u001b[0m\u001b[0m\n\u001b[1;32m      3\u001b[0m \u001b[0mplt\u001b[0m\u001b[0;34m.\u001b[0m\u001b[0mtitle\u001b[0m\u001b[0;34m(\u001b[0m\u001b[0;34m'Percentuali Sintomi Pazienti Deceduti'\u001b[0m\u001b[0;34m)\u001b[0m\u001b[0;34m\u001b[0m\u001b[0;34m\u001b[0m\u001b[0m\n\u001b[1;32m      4\u001b[0m \u001b[0mplt\u001b[0m\u001b[0;34m.\u001b[0m\u001b[0mxticks\u001b[0m\u001b[0;34m(\u001b[0m\u001b[0mrotation\u001b[0m\u001b[0;34m=\u001b[0m\u001b[0;36m75\u001b[0m\u001b[0;34m)\u001b[0m\u001b[0;34m\u001b[0m\u001b[0;34m\u001b[0m\u001b[0m\n\u001b[1;32m      5\u001b[0m \u001b[0mplt\u001b[0m\u001b[0;34m.\u001b[0m\u001b[0mylabel\u001b[0m\u001b[0;34m(\u001b[0m\u001b[0;34m'Percentuale %'\u001b[0m\u001b[0;34m)\u001b[0m\u001b[0;34m\u001b[0m\u001b[0;34m\u001b[0m\u001b[0m\n",
            "\u001b[0;32m/usr/local/lib/python3.6/dist-packages/matplotlib/pyplot.py\u001b[0m in \u001b[0;36mbar\u001b[0;34m(x, height, width, bottom, align, data, **kwargs)\u001b[0m\n\u001b[1;32m   2407\u001b[0m     return gca().bar(\n\u001b[1;32m   2408\u001b[0m         \u001b[0mx\u001b[0m\u001b[0;34m,\u001b[0m \u001b[0mheight\u001b[0m\u001b[0;34m,\u001b[0m \u001b[0mwidth\u001b[0m\u001b[0;34m=\u001b[0m\u001b[0mwidth\u001b[0m\u001b[0;34m,\u001b[0m \u001b[0mbottom\u001b[0m\u001b[0;34m=\u001b[0m\u001b[0mbottom\u001b[0m\u001b[0;34m,\u001b[0m \u001b[0malign\u001b[0m\u001b[0;34m=\u001b[0m\u001b[0malign\u001b[0m\u001b[0;34m,\u001b[0m\u001b[0;34m\u001b[0m\u001b[0;34m\u001b[0m\u001b[0m\n\u001b[0;32m-> 2409\u001b[0;31m         **({\"data\": data} if data is not None else {}), **kwargs)\n\u001b[0m\u001b[1;32m   2410\u001b[0m \u001b[0;34m\u001b[0m\u001b[0m\n\u001b[1;32m   2411\u001b[0m \u001b[0;34m\u001b[0m\u001b[0m\n",
            "\u001b[0;32m/usr/local/lib/python3.6/dist-packages/matplotlib/__init__.py\u001b[0m in \u001b[0;36minner\u001b[0;34m(ax, data, *args, **kwargs)\u001b[0m\n\u001b[1;32m   1563\u001b[0m     \u001b[0;32mdef\u001b[0m \u001b[0minner\u001b[0m\u001b[0;34m(\u001b[0m\u001b[0max\u001b[0m\u001b[0;34m,\u001b[0m \u001b[0;34m*\u001b[0m\u001b[0margs\u001b[0m\u001b[0;34m,\u001b[0m \u001b[0mdata\u001b[0m\u001b[0;34m=\u001b[0m\u001b[0;32mNone\u001b[0m\u001b[0;34m,\u001b[0m \u001b[0;34m**\u001b[0m\u001b[0mkwargs\u001b[0m\u001b[0;34m)\u001b[0m\u001b[0;34m:\u001b[0m\u001b[0;34m\u001b[0m\u001b[0;34m\u001b[0m\u001b[0m\n\u001b[1;32m   1564\u001b[0m         \u001b[0;32mif\u001b[0m \u001b[0mdata\u001b[0m \u001b[0;32mis\u001b[0m \u001b[0;32mNone\u001b[0m\u001b[0;34m:\u001b[0m\u001b[0;34m\u001b[0m\u001b[0;34m\u001b[0m\u001b[0m\n\u001b[0;32m-> 1565\u001b[0;31m             \u001b[0;32mreturn\u001b[0m \u001b[0mfunc\u001b[0m\u001b[0;34m(\u001b[0m\u001b[0max\u001b[0m\u001b[0;34m,\u001b[0m \u001b[0;34m*\u001b[0m\u001b[0mmap\u001b[0m\u001b[0;34m(\u001b[0m\u001b[0msanitize_sequence\u001b[0m\u001b[0;34m,\u001b[0m \u001b[0margs\u001b[0m\u001b[0;34m)\u001b[0m\u001b[0;34m,\u001b[0m \u001b[0;34m**\u001b[0m\u001b[0mkwargs\u001b[0m\u001b[0;34m)\u001b[0m\u001b[0;34m\u001b[0m\u001b[0;34m\u001b[0m\u001b[0m\n\u001b[0m\u001b[1;32m   1566\u001b[0m \u001b[0;34m\u001b[0m\u001b[0m\n\u001b[1;32m   1567\u001b[0m         \u001b[0mbound\u001b[0m \u001b[0;34m=\u001b[0m \u001b[0mnew_sig\u001b[0m\u001b[0;34m.\u001b[0m\u001b[0mbind\u001b[0m\u001b[0;34m(\u001b[0m\u001b[0max\u001b[0m\u001b[0;34m,\u001b[0m \u001b[0;34m*\u001b[0m\u001b[0margs\u001b[0m\u001b[0;34m,\u001b[0m \u001b[0;34m**\u001b[0m\u001b[0mkwargs\u001b[0m\u001b[0;34m)\u001b[0m\u001b[0;34m\u001b[0m\u001b[0;34m\u001b[0m\u001b[0m\n",
            "\u001b[0;32m/usr/local/lib/python3.6/dist-packages/matplotlib/axes/_axes.py\u001b[0m in \u001b[0;36mbar\u001b[0;34m(self, x, height, width, bottom, align, **kwargs)\u001b[0m\n\u001b[1;32m   2351\u001b[0m \u001b[0;34m\u001b[0m\u001b[0m\n\u001b[1;32m   2352\u001b[0m         \u001b[0mlinewidth\u001b[0m \u001b[0;34m=\u001b[0m \u001b[0mitertools\u001b[0m\u001b[0;34m.\u001b[0m\u001b[0mcycle\u001b[0m\u001b[0;34m(\u001b[0m\u001b[0mnp\u001b[0m\u001b[0;34m.\u001b[0m\u001b[0matleast_1d\u001b[0m\u001b[0;34m(\u001b[0m\u001b[0mlinewidth\u001b[0m\u001b[0;34m)\u001b[0m\u001b[0;34m)\u001b[0m\u001b[0;34m\u001b[0m\u001b[0;34m\u001b[0m\u001b[0m\n\u001b[0;32m-> 2353\u001b[0;31m         color = itertools.chain(itertools.cycle(mcolors.to_rgba_array(color)),\n\u001b[0m\u001b[1;32m   2354\u001b[0m                                 \u001b[0;31m# Fallback if color == \"none\".\u001b[0m\u001b[0;34m\u001b[0m\u001b[0;34m\u001b[0m\u001b[0;34m\u001b[0m\u001b[0m\n\u001b[1;32m   2355\u001b[0m                                 itertools.repeat('none'))\n",
            "\u001b[0;32m/usr/local/lib/python3.6/dist-packages/matplotlib/colors.py\u001b[0m in \u001b[0;36mto_rgba_array\u001b[0;34m(c, alpha)\u001b[0m\n\u001b[1;32m    328\u001b[0m                 \u001b[0;34m\"'%s' is neither a valid single color nor a color sequence \"\u001b[0m\u001b[0;34m\u001b[0m\u001b[0;34m\u001b[0m\u001b[0m\n\u001b[1;32m    329\u001b[0m                 \u001b[0;34m\"consisting of single character color specifiers such as \"\u001b[0m\u001b[0;34m\u001b[0m\u001b[0;34m\u001b[0m\u001b[0m\n\u001b[0;32m--> 330\u001b[0;31m                 \"'rgb'. Note also that the latter is deprecated.\" % c)\n\u001b[0m\u001b[1;32m    331\u001b[0m         \u001b[0;32melse\u001b[0m\u001b[0;34m:\u001b[0m\u001b[0;34m\u001b[0m\u001b[0;34m\u001b[0m\u001b[0m\n\u001b[1;32m    332\u001b[0m             cbook.warn_deprecated(\"3.2\", message=\"Using a string of single \"\n",
            "\u001b[0;31mValueError\u001b[0m: '230,97,1' is neither a valid single color nor a color sequence consisting of single character color specifiers such as 'rgb'. Note also that the latter is deprecated."
          ]
        },
        {
          "output_type": "display_data",
          "data": {
            "image/png": "[encoded data removed]",
            "text/plain": [
              "<Figure size 432x288 with 1 Axes>"
            ]
          },
          "metadata": {
            "tags": [],
            "needs_background": "light"
          }
        }
      ]
    },
    {
      "cell_type": "markdown",
      "metadata": {
        "id": "BHMrQWvzZ0j5"
      },
      "source": [
        "# Confronto Sintomi in base alla mortalità\n"
      ]
    },
    {
      "cell_type": "code",
      "metadata": {
        "id": "ztTJCJcAZ_QA"
      },
      "source": [
        "ww = 0.7\n",
        "\n",
        "plt.bar(y_pos, sintomi, align='center', alpha=1, width=ww, color='yellow')\n",
        "\n",
        "plt.bar([i+0.25*ww for i in y_pos], sintomiD, align='center', alpha=1, width=0.5*ww, color='green')\n",
        "\n",
        "plt.xticks(y_pos+ww/2, objects2)\n",
        "plt.title('Percentuali Sintomi Pazienti Sopravvissuti')\n",
        "plt.xticks(rotation=75)\n",
        "plt.ylabel('Percentuale %')\n",
        "fig = plt.gcf()\n",
        "fig.set_size_inches(12,10)\n",
        "plt.grid(linestyle='--', linewidth=1, axis = 'y')\n",
        "\n",
        "plt.savefig(\"Sintomi_Sopravissuti.png\")\n",
        "plt.show()\n",
        "\n"
      ],
      "execution_count": null,
      "outputs": []
    },
    {
      "cell_type": "markdown",
      "metadata": {
        "id": "_u-zcof4lzG0"
      },
      "source": [
        "# Malattie Pazienti Sopravvisuti"
      ]
    },
    {
      "cell_type": "code",
      "metadata": {
        "id": "q6vYHA3Kl8_u"
      },
      "source": [
        "vivi = covid.loc[covid['LABEL.2']==0]\n",
        "casi_totali = len(vivi)\n",
        "data2 = pd.DataFrame(columns =['A','B'])\n",
        "casi_favorevoli = len(vivi.loc[vivi['ORD-PNEUMO.ASTHMA']==1])\n",
        "data2.loc[0]= ['PNEUMO.ASTHMA',casi_favorevoli*100/ casi_totali]\n",
        "\n",
        "casi_favorevoli = len(vivi.loc[vivi['ORD-PNEUMO.BPCO']==1])\n",
        "data2.loc[1]= ['PNEUMO.BPCO',casi_favorevoli*100/ casi_totali]\n",
        "\n",
        "casi_favorevoli = len(vivi.loc[vivi['ORD-PNEUMO.INTERSTITIAL.DISEASE']==1])\n",
        "data2.loc[2]= ['PNEUMO.INTERSTITIAL.DISEASE',casi_favorevoli*100/ casi_totali]\n",
        "\n",
        "casi_favorevoli = len(vivi.loc[vivi['ORD-NEOPLASIA.last.5.years']==1])\n",
        "data2.loc[3]= ['NEOPLASIA.last.5.years',casi_favorevoli*100/ casi_totali]\n",
        "\n",
        "casi_favorevoli = len(vivi.loc[vivi['ORD-SMOKE']==1])\n",
        "data2.loc[4]= ['SMOKE',casi_favorevoli*100/ casi_totali]\n",
        "\n",
        "casi_favorevoli = len(vivi.loc[vivi['ORD-IA']==1])\n",
        "data2.loc[5]= ['IA',casi_favorevoli*100/ casi_totali]\n",
        "\n",
        "print (casi_favorevoli)\n",
        "\n",
        "casi_favorevoli = len(vivi.loc[vivi['ORD-CARDIOVASCULAR.pathologies']==1])\n",
        "data2.loc[6]= ['CARDIOVASCULAR.pathologies',casi_favorevoli*100/ casi_totali]\n",
        "\n",
        "casi_favorevoli = len(vivi.loc[vivi['ORD-DIABETES']==1])\n",
        "data2.loc[7]= ['DIABETESA',casi_favorevoli*100/ casi_totali]\n",
        "\n",
        "casi_favorevoli = len(vivi.loc[vivi['ORD-OBESITY']==1])\n",
        "data2.loc[8]= ['OBESITY',casi_favorevoli*100/ casi_totali]\n",
        "\n",
        "casi_favorevoli = len(vivi.loc[vivi['ORD-CEREBRAL.STROKE']==1])\n",
        "data2.loc[9]= ['CEREBRAL.STROKE',casi_favorevoli*100/ casi_totali]\n",
        "\n",
        "casi_favorevoli = len(vivi.loc[vivi['ORD-other.IR']==1])\n",
        "data2.loc[10]= ['other.IR',casi_favorevoli*100/ casi_totali]\n",
        "\n",
        "casi_favorevoli = len(vivi.loc[vivi['ORD-HEPATOPATHY']==1])\n",
        "data2.loc[11]= ['HEPATOPATHY',casi_favorevoli*100/ casi_totali]\n",
        "\n",
        "casi_favorevoli = len(vivi.loc[vivi['ORD-DEMENTHIA']==1])\n",
        "data2.loc[12]= ['DEMENTHIA',casi_favorevoli*100/ casi_totali]\n",
        "\n",
        "objects = data2['B']\n",
        "objects2= data2['A']\n",
        "y_pos = np.arange(len(objects))\n",
        "malattie = objects\n",
        "\n"
      ],
      "execution_count": null,
      "outputs": []
    },
    {
      "cell_type": "code",
      "metadata": {
        "id": "DEPnKzZ-mH7o"
      },
      "source": [
        "plt.bar(y_pos, malattie, align='center', alpha=1, width=0.7, color='yellow')\n",
        "plt.xticks(y_pos, objects2)\n",
        "plt.title('Percentuali Malattie Pazienti Sopravvissuti')\n",
        "plt.xticks(rotation=75)\n",
        "plt.ylabel('Percentuale %')\n",
        "fig = plt.gcf()\n",
        "fig.set_size_inches(12,10)\n",
        "plt.grid(linestyle='--', linewidth=1, axis = 'y')\n",
        "\n",
        "plt.savefig(\"Malattie_Sopravvissuti.png\")\n",
        "plt.show()"
      ],
      "execution_count": null,
      "outputs": []
    },
    {
      "cell_type": "markdown",
      "metadata": {
        "id": "UjE_VC06l3Md"
      },
      "source": [
        "# Malattie Pazienti Deceduti"
      ]
    },
    {
      "cell_type": "code",
      "metadata": {
        "id": "buhTOfarmK23"
      },
      "source": [
        "morti = covid.loc[covid['LABEL.2']==1]\n",
        "casi_totali = len(morti)\n",
        "data2 = pd.DataFrame(columns =['A','B'])\n",
        "\n",
        "casi_favorevoli = len(morti.loc[morti['ORD-PNEUMO.ASTHMA']==1])\n",
        "data2.loc[0]= ['PNEUMO.ASTHMA',casi_favorevoli*100/ casi_totali]\n",
        "\n",
        "casi_favorevoli = len(morti.loc[morti['ORD-PNEUMO.BPCO']==1])\n",
        "data2.loc[1]= ['PNEUMO.BPCO',casi_favorevoli*100/ casi_totali]\n",
        "\n",
        "casi_favorevoli = len(morti.loc[morti['ORD-PNEUMO.INTERSTITIAL.DISEASE']==1])\n",
        "data2.loc[2]= ['PNEUMO.INTERSTITIAL.DISEASE',casi_favorevoli*100/ casi_totali]\n",
        "\n",
        "casi_favorevoli = len(morti.loc[morti['ORD-NEOPLASIA.last.5.years']==1])\n",
        "data2.loc[3]= ['NEOPLASIA.last.5.years',casi_favorevoli*100/ casi_totali]\n",
        "\n",
        "casi_favorevoli = len(morti.loc[morti['ORD-SMOKE']==1])\n",
        "data2.loc[4]= ['SMOKE',casi_favorevoli*100/ casi_totali]\n",
        "\n",
        "casi_favorevoli = len(morti.loc[morti['ORD-IA']==1])\n",
        "data2.loc[5]= ['IA',casi_favorevoli*100/ casi_totali]\n",
        "\n",
        "print (casi_favorevoli)\n",
        "\n",
        "casi_favorevoli = len(morti.loc[morti['ORD-CARDIOVASCULAR.pathologies']==1])\n",
        "data2.loc[6]= ['CARDIOVASCULAR.pathologies',casi_favorevoli*100/ casi_totali]\n",
        "\n",
        "casi_favorevoli = len(morti.loc[morti['ORD-DIABETES']==1])\n",
        "data2.loc[7]= ['DIABETESA',casi_favorevoli*100/ casi_totali]\n",
        "\n",
        "casi_favorevoli = len(morti.loc[morti['ORD-OBESITY']==1])\n",
        "data2.loc[8]= ['OBESITY',casi_favorevoli*100/ casi_totali]\n",
        "\n",
        "casi_favorevoli = len(morti.loc[morti['ORD-CEREBRAL.STROKE']==1])\n",
        "data2.loc[9]= ['CEREBRAL.STROKE',casi_favorevoli*100/ casi_totali]\n",
        "\n",
        "casi_favorevoli = len(morti.loc[morti['ORD-other.IR']==1])\n",
        "data2.loc[10]= ['other.IR',casi_favorevoli*100/ casi_totali]\n",
        "\n",
        "casi_favorevoli = len(morti.loc[morti['ORD-HEPATOPATHY']==1])\n",
        "data2.loc[11]= ['HEPATOPATHY',casi_favorevoli*100/ casi_totali]\n",
        "\n",
        "casi_favorevoli = len(morti.loc[morti['ORD-DEMENTHIA']==1])\n",
        "data2.loc[12]= ['DEMENTHIA',casi_favorevoli*100/ casi_totali]\n",
        "\n",
        "objects = data2['B']\n",
        "objects2= data2['A']\n",
        "y_pos = np.arange(len(objects))\n",
        "malattie = objects"
      ],
      "execution_count": null,
      "outputs": []
    },
    {
      "cell_type": "code",
      "metadata": {
        "id": "AFRZkVNTmO12"
      },
      "source": [
        "plt.bar(y_pos, malattie, align='center', alpha=1, width=0.7, color='black')\n",
        "plt.xticks(y_pos, objects2)\n",
        "plt.title('Percentuali Malattie Pazienti Deceduti')\n",
        "plt.xticks(rotation=75)\n",
        "plt.ylabel('Percentuale %')\n",
        "fig = plt.gcf()\n",
        "fig.set_size_inches(12,10)\n",
        "plt.grid(linestyle='--', linewidth=1, axis = 'y')\n",
        "\n",
        "plt.savefig(\"Malattie_Deceduti.png\")\n",
        "plt.show()"
      ],
      "execution_count": null,
      "outputs": []
    },
    {
      "cell_type": "markdown",
      "metadata": {
        "id": "c2N-Y4j8maTn"
      },
      "source": [
        "# Dati Sanitari Pazienti Gravità 0"
      ]
    },
    {
      "cell_type": "code",
      "metadata": {
        "id": "K7yyeDc7myCg"
      },
      "source": [
        "import warnings\n",
        "warnings.filterwarnings(\"ignore\")\n",
        "\n",
        "for i, content in temp.items():\n",
        "    temp[i]=temp[i]/temp[i].max()\n",
        "\n",
        "temp.boxplot(column=['INT-PaO2.PF','INT-SpO2.in.FA',\n",
        "                       'INT-LDH','INT-AST','INT-ALT','INT-PLATELETS',\n",
        "                       'NUM-WHITE.blood.cells','NUM-LYMPHOCYTE',\n",
        "                       'NUM-PERC.LIMPHOCYTE','NUM-PCR','NUM-HEMOGLOBIN',\n",
        "                       'NUM-Hematocrit'],\n",
        "               vert=False,\n",
        "               showfliers=True)\n",
        "\n",
        "fig = plt.gcf()\n",
        "fig.set_size_inches(12,10)\n",
        "plt.show()"
      ],
      "execution_count": null,
      "outputs": []
    },
    {
      "cell_type": "markdown",
      "metadata": {
        "id": "0ncp3GdFnJXA"
      },
      "source": [
        "# Dati Sanitari Pazienti Gravità 1"
      ]
    },
    {
      "cell_type": "code",
      "metadata": {
        "id": "yP1WTWJInMPn"
      },
      "source": [
        "temp = covid[covid['LABEL.4']==1]\n",
        "\n",
        "for i, content in temp.items():\n",
        "    temp[i]=temp[i]/temp[i].max()\n",
        "\n",
        "temp.boxplot(column=['INT-PaO2.PF','INT-SpO2.in.FA',\n",
        "                       'INT-LDH','INT-AST','INT-ALT','INT-PLATELETS',\n",
        "                       'NUM-WHITE.blood.cells','NUM-LYMPHOCYTE',\n",
        "                       'NUM-PERC.LIMPHOCYTE','NUM-PCR','NUM-HEMOGLOBIN',\n",
        "                       'NUM-Hematocrit'],\n",
        "               vert=False,\n",
        "               showfliers=True)\n",
        "\n",
        "fig = plt.gcf()\n",
        "fig.set_size_inches(12,10)\n",
        "plt.show()"
      ],
      "execution_count": null,
      "outputs": []
    },
    {
      "cell_type": "markdown",
      "metadata": {
        "id": "x0X-qh5knrLS"
      },
      "source": [
        "# Dati Sanitari Pazienti Gravità 2"
      ]
    },
    {
      "cell_type": "code",
      "metadata": {
        "id": "1YvHD4gdnwG8"
      },
      "source": [
        "temp = covid[covid['LABEL.4']==2]\n",
        "\n",
        "for i, content in temp.items():\n",
        "    temp[i]=temp[i]/temp[i].max()\n",
        "\n",
        "temp.boxplot(column=['INT-PaO2.PF','INT-SpO2.in.FA',\n",
        "                       'INT-LDH','INT-AST','INT-ALT','INT-PLATELETS',\n",
        "                       'NUM-WHITE.blood.cells','NUM-LYMPHOCYTE',\n",
        "                       'NUM-PERC.LIMPHOCYTE','NUM-PCR','NUM-HEMOGLOBIN',\n",
        "                       'NUM-Hematocrit'],\n",
        "               vert=False,\n",
        "               showfliers=True)\n",
        "\n",
        "fig = plt.gcf()\n",
        "fig.set_size_inches(12,10)\n",
        "plt.show()"
      ],
      "execution_count": null,
      "outputs": []
    },
    {
      "cell_type": "markdown",
      "metadata": {
        "id": "XdVXyM8Wn1VJ"
      },
      "source": [
        "# Dati Sanitari Pazienti Gravità 3"
      ]
    },
    {
      "cell_type": "code",
      "metadata": {
        "id": "I5RHFePun50e"
      },
      "source": [
        "temp = covid[covid['LABEL.4']==3]\n",
        "\n",
        "for i, content in temp.items():\n",
        "    temp[i]=temp[i]/temp[i].max()\n",
        "\n",
        "temp.boxplot(column=['INT-PaO2.PF','INT-SpO2.in.FA',\n",
        "                       'INT-LDH','INT-AST','INT-ALT','INT-PLATELETS',\n",
        "                       'NUM-WHITE.blood.cells','NUM-LYMPHOCYTE',\n",
        "                       'NUM-PERC.LIMPHOCYTE','NUM-PCR','NUM-HEMOGLOBIN',\n",
        "                       'NUM-Hematocrit'],\n",
        "               vert=False,\n",
        "               showfliers=True)\n",
        "\n",
        "fig = plt.gcf()\n",
        "fig.set_size_inches(12,10)\n",
        "plt.show()"
      ],
      "execution_count": null,
      "outputs": []
    },
    {
      "cell_type": "markdown",
      "metadata": {
        "id": "0ppSuIM1oARM"
      },
      "source": [
        "# Dati Sanitari Pazienti Sopravvissuti"
      ]
    },
    {
      "cell_type": "code",
      "metadata": {
        "id": "XmMBd9sioG_V"
      },
      "source": [
        "temp = covid[covid['LABEL.2']==0]\n",
        "\n",
        "for i, content in temp.items():\n",
        "    temp[i]=temp[i]/temp[i].max()\n",
        "\n",
        "temp.boxplot(column=['INT-PaO2.PF','INT-SpO2.in.FA',\n",
        "                       'INT-LDH','INT-AST','INT-ALT','INT-PLATELETS',\n",
        "                       'NUM-WHITE.blood.cells','NUM-LYMPHOCYTE',\n",
        "                       'NUM-PERC.LIMPHOCYTE','NUM-PCR','NUM-HEMOGLOBIN',\n",
        "                       'NUM-Hematocrit'],\n",
        "               vert=False,\n",
        "               showfliers=True)\n",
        "\n",
        "fig = plt.gcf()\n",
        "fig.set_size_inches(12,10)\n",
        "plt.show()"
      ],
      "execution_count": null,
      "outputs": []
    },
    {
      "cell_type": "markdown",
      "metadata": {
        "id": "UoZU7JhXoK2s"
      },
      "source": [
        "# Dati Sanitari Pazienti Deceduti"
      ]
    },
    {
      "cell_type": "code",
      "metadata": {
        "id": "nQ0OUv47oO2L"
      },
      "source": [
        "temp = covid[covid['LABEL.2']==1]\n",
        "\n",
        "for i, content in temp.items():\n",
        "    temp[i]=temp[i]/temp[i].max()\n",
        "\n",
        "temp.boxplot(column=['INT-PaO2.PF','INT-SpO2.in.FA',\n",
        "                       'INT-LDH','INT-AST','INT-ALT','INT-PLATELETS',\n",
        "                       'NUM-WHITE.blood.cells','NUM-LYMPHOCYTE',\n",
        "                       'NUM-PERC.LIMPHOCYTE','NUM-PCR','NUM-HEMOGLOBIN',\n",
        "                       'NUM-Hematocrit'],\n",
        "               vert=False,\n",
        "               showfliers=True)\n",
        "\n",
        "fig = plt.gcf()\n",
        "fig.set_size_inches(12,10)\n",
        "plt.show()"
      ],
      "execution_count": null,
      "outputs": []
    },
    {
      "cell_type": "markdown",
      "metadata": {
        "id": "WfnLnnsgpp4e"
      },
      "source": [
        "# Confronto Sesso in base alla Gravità"
      ]
    },
    {
      "cell_type": "code",
      "metadata": {
        "id": "NIu5oXkNqgyb"
      },
      "source": [
        "U = covid[covid['LABEL.4']==3]\n",
        "totale3 = len(U)\n",
        "uomini3 = len(U[U['CAT-SEX']==0])\n",
        "data3 = pd.DataFrame(columns =['A','Percentuale'])\n",
        "data3.loc[1]=('UOMINI',uomini3*100/totale3)\n",
        "print('UOMINI ',uomini3*100/totale3)\n",
        "donne3 = len(U[U['CAT-SEX']==1])\n",
        "data3.loc[2]=('DONNE',donne3*100/totale3)\n",
        "print('DONNE ',donne3*100/totale3)\n",
        "\n",
        "# Data to plot\n",
        "labels = 'Uomini', 'Donne'\n",
        "sizes = [uomini3,donne3]\n",
        "colors = ['lightgreen', 'violet']\n",
        "explode = (0, 0)  # explode 1st slice\n",
        "\n",
        "# Plot\n",
        "plt.pie(sizes, explode=explode, labels=labels, colors=colors,\n",
        "autopct='%1.1f%%')#, shadow=True, startangle=140)\n",
        "\n",
        "plt.axis('equal')\n",
        "plt.savefig(\"U_D_3.png\")\n",
        "plt.show()\n",
        "\n",
        "\n"
      ],
      "execution_count": null,
      "outputs": []
    },
    {
      "cell_type": "code",
      "metadata": {
        "id": "PhOdBR6yqpF7"
      },
      "source": [
        "U = covid[covid['LABEL.4']==2]\n",
        "totale2 = len(U)\n",
        "uomini2 = len(U[U['CAT-SEX']==0])\n",
        "data2 = pd.DataFrame(columns =['A','Percentuale'])\n",
        "data2.loc[1]=('UOMINI',uomini2*100/totale2)\n",
        "print('UOMINI ',uomini2*100/totale2)\n",
        "donne2 = len(U[U['CAT-SEX']==1])\n",
        "data.loc[2]=('DONNE',donne2*100/totale2)\n",
        "print('DONNE ',donne2*100/totale2)\n",
        "\n",
        "# Data to plot\n",
        "labels = 'Uomini', 'Donne'\n",
        "sizes = [uomini2,donne2]\n",
        "colors = ['lightgreen', 'violet']\n",
        "explode = (0, 0)  # explode 1st slice\n",
        "\n",
        "# Plot\n",
        "plt.pie(sizes, explode=explode, labels=labels, colors=colors,\n",
        "autopct='%1.1f%%')#, shadow=True, startangle=140)\n",
        "\n",
        "plt.axis('equal')\n",
        "plt.savefig(\"U_D_2.png\")\n",
        "plt.show()\n",
        "\n"
      ],
      "execution_count": null,
      "outputs": []
    },
    {
      "cell_type": "code",
      "metadata": {
        "id": "BH9NP9wmquVb"
      },
      "source": [
        "U = covid[covid['LABEL.4']==1]\n",
        "totale1 = len(U)\n",
        "uomini1 = len(U[U['CAT-SEX']==0])\n",
        "data = pd.DataFrame(columns =['A','Percentuale'])\n",
        "data.loc[1]=('UOMINI',uomini1*100/totale1)\n",
        "print('UOMINI ',uomini1*100/totale1)\n",
        "donne1 = len(U[U['CAT-SEX']==1])\n",
        "data.loc[2]=('DONNE',donne1*100/totale1)\n",
        "print('DONNE ',donne1*100/totale1)\n",
        "\n",
        "# Data to plot\n",
        "labels = 'Uomini', 'Donne'\n",
        "sizes = [uomini1,donne1]\n",
        "colors = ['lightgreen', 'violet']\n",
        "explode = (0, 0)  # explode 1st slice\n",
        "\n",
        "# Plot\n",
        "plt.pie(sizes, explode=explode, labels=labels, colors=colors,\n",
        "autopct='%1.1f%%')#, shadow=True, startangle=140)\n",
        "\n",
        "plt.axis('equal')\n",
        "plt.savefig(\"U_D_1.png\")\n",
        "plt.show()\n",
        "\n"
      ],
      "execution_count": null,
      "outputs": []
    },
    {
      "cell_type": "code",
      "metadata": {
        "id": "aoYiz6rkqxGN"
      },
      "source": [
        "U = covid[covid['LABEL.4']==0]\n",
        "totale0 = len(U)\n",
        "uomini0 = len(U[U['CAT-SEX']==0])\n",
        "data = pd.DataFrame(columns =['A','Percentuale'])\n",
        "data.loc[1]=('UOMINI',uomini0*100/totale0)\n",
        "print('UOMINI ',uomini0*100/totale0)\n",
        "donne0 = len(U[U['CAT-SEX']==1])\n",
        "data.loc[2]=('DONNE',donne0*100/totale0)\n",
        "print('DONNE ',donne0*100/totale0)\n",
        "\n",
        "# Data to plot\n",
        "labels = 'Uomini', 'Donne'\n",
        "sizes = [uomini0,donne0]\n",
        "colors = ['lightgreen', 'violet']\n",
        "explode = (0, 0)  # explode 1st slice\n",
        "\n",
        "# Plot\n",
        "plt.pie(sizes, explode=explode, labels=labels, colors=colors,\n",
        "autopct='%1.1f%%')#, shadow=True, startangle=140)\n",
        "\n",
        "plt.axis('equal')\n",
        "plt.savefig(\"U_D_0.png\")\n",
        "plt.show()\n",
        "\n"
      ],
      "execution_count": null,
      "outputs": []
    },
    {
      "cell_type": "code",
      "metadata": {
        "id": "tyMoB48rt89W"
      },
      "source": [
        "fig = plt.figure(figsize=(14,10), dpi=1600)\n",
        "#2 rows 2 cols\n",
        "#first row, first col\n",
        "ax1 = plt.subplot2grid((2,2),(0,0))\n",
        "#Data to plot\n",
        "labels = 'Uomini', 'Donne'\n",
        "sizes = [uomini0,donne0]\n",
        "colors = ['lightgreen', 'violet']\n",
        "explode = (0, 0)  # explode 1st slice\n",
        "\n",
        "# Plot\n",
        "plt.pie(sizes, explode=explode, labels=labels, colors=colors,\n",
        "autopct='%1.1f%%')#, shadow=True, startangle=140)\n",
        "\n",
        "plt.axis('equal')\n",
        "plt.title('Gravità 0')\n",
        "\n",
        "#first row sec col\n",
        "ax1 = plt.subplot2grid((2,2), (0, 1))\n",
        "#Data to plot\n",
        "sizes = [uomini1,donne1]\n",
        "\n",
        "# Plot\n",
        "plt.pie(sizes, explode=explode, labels=labels, colors=colors,\n",
        "autopct='%1.1f%%')#, shadow=True, startangle=140)\n",
        "\n",
        "plt.axis('equal')\n",
        "plt.title('Gravità 1')\n",
        "#Second row first column\n",
        "ax1 = plt.subplot2grid((2,2), (1, 0))\n",
        "#Data to plot\n",
        "sizes = [uomini2,donne2]\n",
        "\n",
        "# Plot\n",
        "plt.pie(sizes, explode=explode, labels=labels, colors=colors,\n",
        "autopct='%1.1f%%')#, shadow=True, startangle=140)\n",
        "\n",
        "plt.axis('equal')\n",
        "plt.title('Gravità 2')\n",
        "#second row second column\n",
        "ax1 = plt.subplot2grid((2,2), (1, 1))\n",
        "#Data to plot\n",
        "sizes = [uomini3,donne3]\n",
        "\n",
        "# Plot\n",
        "plt.pie(sizes, explode=explode, labels=labels, colors=colors,\n",
        "autopct='%1.1f%%')#, shadow=True, startangle=140)\n",
        "\n",
        "plt.axis('equal')\n",
        "plt.title('Gravità 3')\n",
        "\n",
        "plt.savefig(\"U_D_0_1_2_3.png\")\n",
        "plt.show()\n",
        "\n",
        "#COMMENTATO POICHé CODICE FA LAGGARE"
      ],
      "execution_count": null,
      "outputs": []
    },
    {
      "cell_type": "markdown",
      "metadata": {
        "id": "gm_K-eJEoQtg"
      },
      "source": [
        "# Confronto Sesso Sopravvissuti/Deceduti"
      ]
    },
    {
      "cell_type": "code",
      "metadata": {
        "id": "8fHeX_jzoWDM"
      },
      "source": [
        "U = covid[covid['LABEL.2']==0]\n",
        "totaleS = len(U)\n",
        "uominiS = len(U[U['CAT-SEX']==0])\n",
        "dataS = pd.DataFrame(columns =['A','Percentuale'])\n",
        "dataS.loc[1]=('UOMINI',uominiS*100/totaleS)\n",
        "print('UOMINI ',uominiS*100/totaleS)\n",
        "donneS = len(U[U['CAT-SEX']==1])\n",
        "dataS.loc[2]=('DONNE',donneS*100/totale3)\n",
        "print('DONNE ',donneS*100/totaleS)\n",
        "\n",
        "\n",
        "# Data to plot\n",
        "labels = 'Uomini', 'Donne'\n",
        "sizes = [uominiS,donneS]\n",
        "colors = ['darkgreen', 'darkviolet']\n",
        "explode = (0, 0)  # explode 1st slice\n",
        "\n",
        "# Plot\n",
        "plt.pie(sizes, explode=explode, labels=labels, colors=colors,\n",
        "autopct='%1.1f%%')#, shadow=True, startangle=140)\n",
        "\n",
        "plt.axis('equal')\n",
        "plt.savefig(\"sopravv.png\")\n",
        "plt.show()\n"
      ],
      "execution_count": null,
      "outputs": []
    },
    {
      "cell_type": "code",
      "metadata": {
        "id": "UyjVJbQmopPY"
      },
      "source": [
        "U = covid[covid['LABEL.2']==1]\n",
        "totaleD = len(U)\n",
        "uominiD = len(U[U['CAT-SEX']==0])\n",
        "dataD = pd.DataFrame(columns =['A','Percentuale'])\n",
        "dataD.loc[1]=('UOMINI',uominiD*100/totaleD)\n",
        "print('UOMINI ',uominiD*100/totaleD)\n",
        "donneD = len(U[U['CAT-SEX']==1])\n",
        "dataD.loc[2]=('DONNE',donne3*100/totaleD)\n",
        "print('DONNE ',donneD*100/totaleD)\n",
        "\n",
        "# Data to plot\n",
        "labels = 'Uomini', 'Donne'\n",
        "sizes = [uominiD,donneD]\n",
        "colors = ['darkgreen', 'darkviolet']\n",
        "explode = (0, 0)  # explode 1st slice\n",
        "\n",
        "# Plot\n",
        "plt.pie(sizes, explode=explode, labels=labels, colors=colors,\n",
        "autopct='%1.1f%%')#, shadow=True, startangle=140)\n",
        "\n",
        "plt.axis('equal')\n",
        "plt.savefig(\"deced.png\")\n",
        "plt.show()"
      ],
      "execution_count": null,
      "outputs": []
    },
    {
      "cell_type": "code",
      "metadata": {
        "id": "_2stTpfBpgxm"
      },
      "source": [
        "fig = plt.figure(figsize=(14,10), dpi=1600)\n",
        "#2 rows 2 cols\n",
        "#first row, first col\n",
        "ax1 = plt.subplot2grid((2,2),(0,0))\n",
        "#Data to plot\n",
        "labels = 'Uomini', 'Donne'\n",
        "sizes = [uominiS,donneS]\n",
        "colors = ['lightgreen', 'violet']\n",
        "explode = (0, 0)  # explode 1st slice\n",
        "\n",
        "# Plot\n",
        "plt.pie(sizes, explode=explode, labels=labels, colors=colors,\n",
        "autopct='%1.1f%%')#, shadow=True, startangle=140)\n",
        "\n",
        "plt.axis('equal')\n",
        "plt.title('Deceduti')\n",
        "\n",
        "#first row sec col\n",
        "ax1 = plt.subplot2grid((2,2), (0, 1))\n",
        "#Data to plot\n",
        "sizes = [uominiD,donneD]\n",
        "# Plot\n",
        "plt.pie(sizes, explode=explode, labels=labels, colors=colors,\n",
        "autopct='%1.1f%%')#, shadow=True, startangle=140)\n",
        "\n",
        "plt.axis('equal')\n",
        "plt.title('Sopravvisuti')\n",
        "plt.show()"
      ],
      "execution_count": null,
      "outputs": []
    },
    {
      "cell_type": "markdown",
      "metadata": {
        "id": "voLs1I6prT3L"
      },
      "source": [
        "# Score Pazienti Gravità 0"
      ]
    },
    {
      "cell_type": "code",
      "metadata": {
        "id": "-z7qs7pNrjGx"
      },
      "source": [
        "import warnings\n",
        "warnings.filterwarnings(\"ignore\")\n",
        "covid_ = covid[covid['LABEL.4']==0]\n",
        "temp =covid_[['INT-usa.radio.SCORE','INT-radio.SCORE','NUM-GEO.score','NUM-OPC.score']]\n",
        "\n",
        "temp['INT-usa.radio.SCORE']= temp['INT-usa.radio.SCORE']/6\n",
        "temp['INT-radio.SCORE']= temp['INT-radio.SCORE']/24\n",
        "\n",
        "temp.boxplot(column=['INT-usa.radio.SCORE','INT-radio.SCORE','NUM-GEO.score','NUM-OPC.score'],\n",
        "               vert=False,\n",
        "               showfliers=True)\n",
        "\n",
        "fig = plt.gcf()\n",
        "fig.set_size_inches(12,10)\n",
        "plt.savefig(\"ScoreG0.png\")\n",
        "plt.show()"
      ],
      "execution_count": null,
      "outputs": []
    },
    {
      "cell_type": "markdown",
      "metadata": {
        "id": "81gcN-TxsOM9"
      },
      "source": [
        "# Score Pazienti Gravità 1"
      ]
    },
    {
      "cell_type": "code",
      "metadata": {
        "id": "lKOrJQBXsPXv"
      },
      "source": [
        "import warnings\n",
        "warnings.filterwarnings(\"ignore\")\n",
        "covid_ = covid[covid['LABEL.4']==1]\n",
        "temp =covid_[['INT-usa.radio.SCORE','INT-radio.SCORE','NUM-GEO.score','NUM-OPC.score']]\n",
        "\n",
        "temp['INT-usa.radio.SCORE']= temp['INT-usa.radio.SCORE']/6\n",
        "temp['INT-radio.SCORE']= temp['INT-radio.SCORE']/24\n",
        "\n",
        "temp.boxplot(column=['INT-usa.radio.SCORE','INT-radio.SCORE','NUM-GEO.score','NUM-OPC.score'],\n",
        "               vert=False,\n",
        "               showfliers=True)\n",
        "\n",
        "fig = plt.gcf()\n",
        "fig.set_size_inches(12,10)\n",
        "plt.savefig(\"ScoreG1.png\")\n",
        "plt.show()"
      ],
      "execution_count": null,
      "outputs": []
    },
    {
      "cell_type": "markdown",
      "metadata": {
        "id": "AyajxYXnscre"
      },
      "source": [
        "#Score Pazienti Gravità 2"
      ]
    },
    {
      "cell_type": "code",
      "metadata": {
        "id": "8im0zkAjsgPX"
      },
      "source": [
        "import warnings\n",
        "warnings.filterwarnings(\"ignore\")\n",
        "covid_ = covid[covid['LABEL.4']==2]\n",
        "temp =covid_[['INT-usa.radio.SCORE','INT-radio.SCORE','NUM-GEO.score','NUM-OPC.score']]\n",
        "\n",
        "temp['INT-usa.radio.SCORE']= temp['INT-usa.radio.SCORE']/6\n",
        "temp['INT-radio.SCORE']= temp['INT-radio.SCORE']/24\n",
        "\n",
        "temp.boxplot(column=['INT-usa.radio.SCORE','INT-radio.SCORE','NUM-GEO.score','NUM-OPC.score'],\n",
        "               vert=False,\n",
        "               showfliers=True)\n",
        "\n",
        "fig = plt.gcf()\n",
        "fig.set_size_inches(12,10)\n",
        "plt.savefig(\"ScoreG2.png\")\n",
        "plt.show()"
      ],
      "execution_count": null,
      "outputs": []
    },
    {
      "cell_type": "markdown",
      "metadata": {
        "id": "dM61sFdFsdPh"
      },
      "source": [
        "# Score Pazienti Gravità 3"
      ]
    },
    {
      "cell_type": "code",
      "metadata": {
        "id": "GzvjSnijssEY"
      },
      "source": [
        "import warnings\n",
        "warnings.filterwarnings(\"ignore\")\n",
        "covid_ = covid[covid['LABEL.4']==3]\n",
        "temp =covid_[['INT-usa.radio.SCORE','INT-radio.SCORE','NUM-GEO.score','NUM-OPC.score']]\n",
        "\n",
        "temp['INT-usa.radio.SCORE']= temp['INT-usa.radio.SCORE']/6\n",
        "temp['INT-radio.SCORE']= temp['INT-radio.SCORE']/24\n",
        "\n",
        "temp.boxplot(column=['INT-usa.radio.SCORE','INT-radio.SCORE','NUM-GEO.score','NUM-OPC.score'],\n",
        "               vert=False,\n",
        "               showfliers=True)\n",
        "\n",
        "fig = plt.gcf()\n",
        "fig.set_size_inches(12,10)\n",
        "plt.savefig(\"ScoreG3.png\")\n",
        "plt.show()"
      ],
      "execution_count": null,
      "outputs": []
    },
    {
      "cell_type": "markdown",
      "metadata": {
        "id": "ecN9l0Ats3fJ"
      },
      "source": [
        "# Score Pazienti Deceduti"
      ]
    },
    {
      "cell_type": "code",
      "metadata": {
        "id": "UdMJjnBes7vi"
      },
      "source": [
        "import warnings\n",
        "warnings.filterwarnings(\"ignore\")\n",
        "covid_ = covid[covid['LABEL.2']==1]\n",
        "temp =covid_[['INT-usa.radio.SCORE','INT-radio.SCORE','NUM-GEO.score','NUM-OPC.score']]\n",
        "\n",
        "temp['INT-usa.radio.SCORE']= temp['INT-usa.radio.SCORE']/6\n",
        "temp['INT-radio.SCORE']= temp['INT-radio.SCORE']/24\n",
        "\n",
        "temp.boxplot(column=['INT-usa.radio.SCORE','INT-radio.SCORE','NUM-GEO.score','NUM-OPC.score'],\n",
        "               vert=False,\n",
        "               showfliers=True)\n",
        "\n",
        "fig = plt.gcf()\n",
        "fig.set_size_inches(12,10)\n",
        "plt.savefig(\"ScoreD.png\")\n",
        "plt.show()"
      ],
      "execution_count": null,
      "outputs": []
    },
    {
      "cell_type": "markdown",
      "metadata": {
        "id": "Do1Xyq6dtJnF"
      },
      "source": [
        "# Score Pazienti Sopravvissuti"
      ]
    },
    {
      "cell_type": "code",
      "metadata": {
        "id": "lLgfB7wxtOfY"
      },
      "source": [
        "import warnings\n",
        "warnings.filterwarnings(\"ignore\")\n",
        "covid_ = covid[covid['LABEL.2']==0]\n",
        "temp =covid_[['INT-usa.radio.SCORE','INT-radio.SCORE','NUM-GEO.score','NUM-OPC.score']]\n",
        "\n",
        "temp['INT-usa.radio.SCORE']= temp['INT-usa.radio.SCORE']/6\n",
        "temp['INT-radio.SCORE']= temp['INT-radio.SCORE']/24\n",
        "\n",
        "temp.boxplot(column=['INT-usa.radio.SCORE','INT-radio.SCORE','NUM-GEO.score','NUM-OPC.score'],\n",
        "               vert=False,\n",
        "               showfliers=True)\n",
        "\n",
        "fig = plt.gcf()\n",
        "fig.set_size_inches(12,10)\n",
        "plt.savefig(\"ScoreS.png\")\n",
        "plt.show()"
      ],
      "execution_count": null,
      "outputs": []
    },
    {
      "cell_type": "markdown",
      "metadata": {
        "id": "m_gz9bXqtUrK"
      },
      "source": [
        "# Durata Sintomi ed Età Pazienti Gravità 0"
      ]
    },
    {
      "cell_type": "code",
      "metadata": {
        "id": "u0Van2C0t87v"
      },
      "source": [
        "covid_= covid[covid['LABEL.4']==0]\n",
        "covid_.boxplot(column=['INT-AGE','INT-SYMPTOMS.days'],\n",
        "               vert=False,\n",
        "               showfliers=True)\n",
        "\n",
        "fig = plt.gcf()\n",
        "fig.set_size_inches(9,7)\n",
        "plt.grid(linestyle='--', linewidth=1, axis = 'x')\n",
        "plt.show()"
      ],
      "execution_count": null,
      "outputs": []
    },
    {
      "cell_type": "markdown",
      "metadata": {
        "id": "hlk7v4qruqBF"
      },
      "source": [
        "# Durata Sintomi ed Età Pazienti Gravità 1"
      ]
    },
    {
      "cell_type": "code",
      "metadata": {
        "id": "V92rxSLHusuV"
      },
      "source": [
        "covid_= covid[covid['LABEL.4']==1]\n",
        "covid_.boxplot(column=['INT-AGE','INT-SYMPTOMS.days'],\n",
        "               vert=False,\n",
        "               showfliers=True)\n",
        "\n",
        "fig = plt.gcf()\n",
        "fig.set_size_inches(9,7)\n",
        "plt.grid(linestyle='--', linewidth=1, axis = 'x')\n",
        "plt.show()"
      ],
      "execution_count": null,
      "outputs": []
    },
    {
      "cell_type": "markdown",
      "metadata": {
        "id": "nYgvvSnIuxzE"
      },
      "source": [
        "# Durata Sintomi ed Età Pazienti Gravità 2"
      ]
    },
    {
      "cell_type": "code",
      "metadata": {
        "id": "wYXW6LWPu1C0"
      },
      "source": [
        "covid_= covid[covid['LABEL.4']==2]\n",
        "covid_.boxplot(column=['INT-AGE','INT-SYMPTOMS.days'],\n",
        "               vert=False,\n",
        "               showfliers=True)\n",
        "\n",
        "fig = plt.gcf()\n",
        "fig.set_size_inches(9,7)\n",
        "plt.grid(linestyle='--', linewidth=1, axis = 'x')\n",
        "plt.show()"
      ],
      "execution_count": null,
      "outputs": []
    },
    {
      "cell_type": "markdown",
      "metadata": {
        "id": "d7AVHYFxu9aD"
      },
      "source": [
        "# Durata Sintomi ed Età Pazienti Gravità 3"
      ]
    },
    {
      "cell_type": "code",
      "metadata": {
        "id": "xSR-7D9rvAq8"
      },
      "source": [
        "covid_= covid[covid['LABEL.4']==3]\n",
        "covid_.boxplot(column=['INT-AGE','INT-SYMPTOMS.days'],\n",
        "               vert=False,\n",
        "               showfliers=True)\n",
        "\n",
        "fig = plt.gcf()\n",
        "fig.set_size_inches(9,7)\n",
        "plt.grid(linestyle='--', linewidth=1, axis = 'x')\n",
        "plt.show()"
      ],
      "execution_count": null,
      "outputs": []
    },
    {
      "cell_type": "markdown",
      "metadata": {
        "id": "qjwo0utNvIiW"
      },
      "source": [
        "# Durata Sintomi ed Età Pazienti Sopravvissuti"
      ]
    },
    {
      "cell_type": "code",
      "metadata": {
        "id": "AnUNHPg8vMCz"
      },
      "source": [
        "covid_= covid[covid['LABEL.2']==1]\n",
        "covid_.boxplot(column=['INT-AGE','INT-SYMPTOMS.days'],\n",
        "               vert=False,\n",
        "               showfliers=True)\n",
        "\n",
        "fig = plt.gcf()\n",
        "fig.set_size_inches(9,7)\n",
        "plt.grid(linestyle='--', linewidth=1, axis = 'x')\n",
        "plt.show()"
      ],
      "execution_count": null,
      "outputs": []
    },
    {
      "cell_type": "markdown",
      "metadata": {
        "id": "TAF7GguOvpNa"
      },
      "source": [
        "# Durata Sintomi ed Età Pazienti Deceduti"
      ]
    },
    {
      "cell_type": "code",
      "metadata": {
        "id": "rsYt7uZXvqZL"
      },
      "source": [
        "covid_= covid[covid['LABEL.2']==0]\n",
        "covid_.boxplot(column=['INT-AGE','INT-SYMPTOMS.days'],\n",
        "               vert=False,\n",
        "               showfliers=True)\n",
        "\n",
        "fig = plt.gcf()\n",
        "fig.set_size_inches(9,7)\n",
        "plt.grid(linestyle='--', linewidth=1, axis = 'x')\n",
        "plt.show()"
      ],
      "execution_count": null,
      "outputs": []
    },
    {
      "cell_type": "markdown",
      "metadata": {
        "id": "MvvI2OJmq9bn"
      },
      "source": [
        "# BORUTA con target label.4\n",
        "\n",
        "applichiamo l'algoritmo boruta che ci permette di fare feature selection, dividiamo il nostro DataSet in alcune sottocategorie in base al tipo di dato e cerchiamo di evidanziare quale dato è significativo e quindi incisivo per la determinazione di una determinata colonna.\n",
        "\n",
        "uno sguardo al DataSet:\n",
        "\n"
      ]
    },
    {
      "cell_type": "code",
      "metadata": {
        "id": "qvjgR52Srrj5"
      },
      "source": [
        "import pandas as pd\n",
        "import numpy as np\n",
        "import scipy.stats as st\n",
        "import matplotlib.pyplot as plt\n",
        "%matplotlib inline\n",
        "\n",
        "\n",
        "covid = pd.read_csv('data_covnet_score-imputed_501.csv',sep=\",\")\n",
        "covid = covid.iloc[0:301,:]\n",
        "covid"
      ],
      "execution_count": null,
      "outputs": []
    },
    {
      "cell_type": "markdown",
      "metadata": {
        "id": "4HqmJ_fKwQJj"
      },
      "source": [
        "individuiamo due insiemi: X e Y per i dati categorici.\n",
        "\n",
        "X: features\n",
        "\n",
        "Y: target variable"
      ]
    },
    {
      "cell_type": "code",
      "metadata": {
        "id": "_GpuU4GLwWVV"
      },
      "source": [
        "#symptoms + malattie + sex\n",
        "X=covid.iloc[:,3:28]\n",
        "X"
      ],
      "execution_count": null,
      "outputs": []
    },
    {
      "cell_type": "code",
      "metadata": {
        "id": "wz6SPyKLxL1y"
      },
      "source": [
        "Y = covid.iloc[:,2]\n",
        "Y"
      ],
      "execution_count": null,
      "outputs": []
    },
    {
      "cell_type": "markdown",
      "metadata": {
        "id": "LsOvItqFxUAY"
      },
      "source": [
        "randomiziamo ogni colonna del dataset ottenendo le colonne shadow affiancate a quelle originali\n",
        "\n"
      ]
    },
    {
      "cell_type": "code",
      "metadata": {
        "id": "EeVGB228xdfs"
      },
      "source": [
        "### make X_shadow by randomly permuting each column of X\n",
        "np.random.seed(42)\n",
        "X_shadow = X.apply(np.random.permutation)\n",
        "X_shadow.columns = ['shadow_' + feat for feat in X.columns]\n",
        "### make X_boruta by appending X_shadow to X\n",
        "X_boruta = pd.concat([X, X_shadow], axis = 1)\n",
        "X_boruta"
      ],
      "execution_count": null,
      "outputs": []
    },
    {
      "cell_type": "markdown",
      "metadata": {
        "id": "r7YZgfqIzM7V"
      },
      "source": [
        "cerchiamo la soglia di accettazione dei dati significativi e la troviamo in base al massimo valore tra le store feature importances di shadow"
      ]
    },
    {
      "cell_type": "code",
      "metadata": {
        "id": "97ZtqolYziyf"
      },
      "source": [
        "from sklearn.ensemble import RandomForestRegressor\n",
        "### fit a random forest (suggested max_depth between 3 and 7)\n",
        "forest = RandomForestRegressor(max_depth = 5, random_state = 42)\n",
        "forest.fit(X_boruta, Y)\n",
        "### store feature importances\n",
        "feat_imp_X = forest.feature_importances_[:len(X.columns)]\n",
        "feat_imp_shadow = forest.feature_importances_[len(X.columns):]\n",
        "### compute hits\n",
        "hits = feat_imp_X > feat_imp_shadow.max()\n",
        "print(hits,feat_imp_shadow.max())"
      ],
      "execution_count": null,
      "outputs": []
    },
    {
      "cell_type": "markdown",
      "metadata": {
        "id": "WlpMqF3YzyVR"
      },
      "source": [
        "shadow feature impressions\n"
      ]
    },
    {
      "cell_type": "code",
      "metadata": {
        "id": "3TEHjMi30XGq"
      },
      "source": [
        "feat_imp_shadow"
      ],
      "execution_count": null,
      "outputs": []
    },
    {
      "cell_type": "markdown",
      "metadata": {
        "id": "OEEutswV0bMB"
      },
      "source": [
        "feature impressions"
      ]
    },
    {
      "cell_type": "code",
      "metadata": {
        "id": "7yVGthj20foN"
      },
      "source": [
        "feat_imp_X"
      ],
      "execution_count": null,
      "outputs": []
    },
    {
      "cell_type": "markdown",
      "metadata": {
        "id": "KFR0XSB70mr8"
      },
      "source": [
        "prendo il valore massimo delle colonne radomizzate"
      ]
    },
    {
      "cell_type": "code",
      "metadata": {
        "id": "-xSSDtYc0nIc"
      },
      "source": [
        "print('impression shadow')\n",
        "dataframe2=pd.DataFrame(feat_imp_shadow, columns=['feat_imp_shadow'])\n",
        "dataframe2.plot.bar(color='lightblue',legend=False)\n",
        "fig = plt.gcf()\n",
        "fig.set_size_inches(10,8)\n",
        "plt.axhline(y=feat_imp_shadow.max(), color='r', linestyle='--')\n",
        "plt.show()"
      ],
      "execution_count": null,
      "outputs": []
    },
    {
      "cell_type": "markdown",
      "metadata": {
        "id": "H22N__ro02Xz"
      },
      "source": [
        "accetto solo le colonne dove l'impressione è maggiore dell'impressione massima randomizzata"
      ]
    },
    {
      "cell_type": "code",
      "metadata": {
        "id": "jqx4MN0202mG"
      },
      "source": [
        "print('impression X')\n",
        "dataframe=pd.DataFrame(feat_imp_X, columns=['feat_imp_X'])\n",
        "dataframe.plot.bar(color='lightgreen', legend=False)\n",
        "fig = plt.gcf()\n",
        "fig.set_size_inches(10,8)\n",
        "plt.axhline(y=feat_imp_shadow.max(), color='r', linestyle='--')\n",
        "plt.show()"
      ],
      "execution_count": null,
      "outputs": []
    },
    {
      "cell_type": "markdown",
      "metadata": {
        "id": "vm9IxIOQ0-m_"
      },
      "source": [
        "applico questo procedimento 20 volte per una precisione migliore"
      ]
    },
    {
      "cell_type": "code",
      "metadata": {
        "id": "F3BOC_KY06z_"
      },
      "source": [
        "### initialize hits counter\n",
        "hits = np.zeros((len(X.columns)))\n",
        "### repeat 20 times (ripeto l'esecuzione precedente per 20 volte)\n",
        "for iter_ in range(10):\n",
        "   ### make X_shadow by randomly permuting each column of X\n",
        "    np.random.seed(iter_)\n",
        "    X_shadow = X.apply(np.random.permutation)\n",
        "    X_boruta = pd.concat([X, X_shadow], axis = 1)\n",
        "    ### fit a random forest (suggested max_depth between 3 and 7)\n",
        "    forest = RandomForestRegressor(max_depth = 5, random_state = 42)\n",
        "    forest.fit(X_boruta, Y)\n",
        "    ### store feature importance\n",
        "    feat_imp_X = forest.feature_importances_[:len(X.columns)]\n",
        "    feat_imp_shadow = forest.feature_importances_[len(X.columns):]\n",
        "    ### compute hits for this trial and add to counter\n",
        "    hits += (feat_imp_X > feat_imp_shadow.max())\n",
        "hits"
      ],
      "execution_count": null,
      "outputs": []
    },
    {
      "cell_type": "markdown",
      "metadata": {
        "id": "wJnQphsm1KH0"
      },
      "source": [
        "come facciamo a scegliere il valore minimo da accettare? utilizziamo la distribuzione binomiale!"
      ]
    },
    {
      "cell_type": "code",
      "metadata": {
        "id": "x1nGRODw1K_w"
      },
      "source": [
        "import scipy as sp\n",
        "trials = 10\n",
        "pmf = [sp.stats.binom.pmf(x, trials, .5) for x in range(trials + 1)]"
      ],
      "execution_count": null,
      "outputs": []
    },
    {
      "cell_type": "markdown",
      "metadata": {
        "id": "Gubomlqz1WFs"
      },
      "source": [
        "con questo codice distribuiamo le nostre variabili sulla curva binomiale così da identificare i 3 tipi di dati\n",
        "in base all'area dove vengono disposti.\n",
        "\n",
        "Area Verde = dati significativi,\n",
        "\n",
        "Area Blu = dati irrisori,\n",
        "\n",
        "Area Rossa = dati da rifiutare."
      ]
    },
    {
      "cell_type": "code",
      "metadata": {
        "id": "_LI08UgI1O1a"
      },
      "source": [
        "from boruta import BorutaPy\n",
        "from sklearn.ensemble import RandomForestRegressor\n",
        "import numpy as np\n",
        "###initialize Boruta\n",
        "forest = RandomForestRegressor(\n",
        "   n_jobs = -1,\n",
        "   max_depth = 5\n",
        ")\n",
        "boruta = BorutaPy(\n",
        "   estimator = forest,\n",
        "   n_estimators = 'auto',\n",
        "   max_iter = 100 # number of trials to perform\n",
        ")\n",
        "### fit Boruta (it accepts np.array, not pd.DataFrame)\n",
        "boruta.fit(np.array(X), np.array(Y))\n",
        "### print results\n",
        "green_area = X.columns[boruta.support_].to_list()\n",
        "blue_area = X.columns[boruta.support_weak_].to_list()\n",
        "print('features in the green area:', green_area)\n",
        "print('features in the blue area:', blue_area)"
      ],
      "execution_count": null,
      "outputs": []
    },
    {
      "cell_type": "markdown",
      "metadata": {
        "id": "mENGLMH-4ZtO"
      },
      "source": [
        "Abbiamo trovato quali sono i dati categorici significativi e quali possiamo tralsciare.\n",
        "\n",
        "Adesso vediamo cosa succede con i dati numerici."
      ]
    },
    {
      "cell_type": "code",
      "metadata": {
        "id": "J9N5PDyth5kC"
      },
      "source": [
        "X=covid.iloc[:,28:45].dropna()\n",
        "for i, content in X.items():\n",
        "    X[i]=X[i]/X[i].max()\n",
        "\n",
        "X"
      ],
      "execution_count": null,
      "outputs": []
    },
    {
      "cell_type": "code",
      "metadata": {
        "id": "CewyX4Nc5TnJ"
      },
      "source": [
        "### make X_shadow by randomly permuting each column of X\n",
        "np.random.seed(42)\n",
        "X_shadow = X.apply(np.random.permutation)\n",
        "X_shadow.columns = ['shadow_' + feat for feat in X.columns]\n",
        "### make X_boruta by appending X_shadow to X\n",
        "X_boruta = pd.concat([X, X_shadow], axis = 1)\n",
        "X_boruta"
      ],
      "execution_count": null,
      "outputs": []
    },
    {
      "cell_type": "code",
      "metadata": {
        "id": "465yPMNQ5Xro"
      },
      "source": [
        "from sklearn.ensemble import RandomForestRegressor\n",
        "### fit a random forest (suggested max_depth between 3 and 7)\n",
        "forest = RandomForestRegressor(max_depth = 5, random_state = 42)\n",
        "forest.fit(X_boruta, Y)\n",
        "### store feature importances\n",
        "feat_imp_X = forest.feature_importances_[:len(X.columns)]\n",
        "feat_imp_shadow = forest.feature_importances_[len(X.columns):]\n",
        "### compute hits\n",
        "hits = feat_imp_X > feat_imp_shadow.max()\n",
        "hits"
      ],
      "execution_count": null,
      "outputs": []
    },
    {
      "cell_type": "code",
      "metadata": {
        "id": "ycHB52Rj5aVt"
      },
      "source": [
        "#prendo il valore massimo delle colonne radomizzate\n",
        "print('impression shadow')\n",
        "dataframe2=pd.DataFrame(feat_imp_shadow, columns=['feat_imp_shadow'])\n",
        "dataframe2.plot.bar(color='lightblue',legend=False)\n",
        "fig = plt.gcf()\n",
        "fig.set_size_inches(10,8)\n",
        "plt.axhline(y=feat_imp_shadow.max(), color='r', linestyle='--')\n",
        "plt.show()"
      ],
      "execution_count": null,
      "outputs": []
    },
    {
      "cell_type": "code",
      "metadata": {
        "id": "DkKhQi2L5cqM"
      },
      "source": [
        "#accetto solo le colonne dove l'impressione è maggiore dell'impressione massima randomizzata\n",
        "print('impression X')\n",
        "dataframe=pd.DataFrame(feat_imp_X, columns=['feat_imp_X'])\n",
        "dataframe.plot.bar(color='lightgreen', legend=False)\n",
        "fig = plt.gcf()\n",
        "fig.set_size_inches(10,8)\n",
        "plt.axhline(y=feat_imp_shadow.max(), color='r', linestyle='--')\n",
        "plt.show()"
      ],
      "execution_count": null,
      "outputs": []
    },
    {
      "cell_type": "code",
      "metadata": {
        "id": "rcEaIfFg5gW_"
      },
      "source": [
        "### initialize hits counter\n",
        "hits = np.zeros((len(X.columns)))\n",
        "### repeat 10 times (ripeto l'esecuzione precedente per 20 volte)\n",
        "for iter_ in range(10):\n",
        "   ### make X_shadow by randomly permuting each column of X\n",
        "    np.random.seed(iter_)\n",
        "    X_shadow = X.apply(np.random.permutation)\n",
        "    X_boruta = pd.concat([X, X_shadow], axis = 1)\n",
        "    ### fit a random forest (suggested max_depth between 3 and 7)\n",
        "    forest = RandomForestRegressor(max_depth = 5, random_state = 42)\n",
        "    forest.fit(X_boruta, Y)\n",
        "    ### store feature importance\n",
        "    feat_imp_X = forest.feature_importances_[:len(X.columns)]\n",
        "    feat_imp_shadow = forest.feature_importances_[len(X.columns):]\n",
        "    ### compute hits for this trial and add to counter\n",
        "    hits += (feat_imp_X > feat_imp_shadow.max())\n",
        "hits"
      ],
      "execution_count": null,
      "outputs": []
    },
    {
      "cell_type": "code",
      "metadata": {
        "id": "23dd7sCB5jCH"
      },
      "source": [
        "#come facciamo a scegliere il valore minimo da accettare? utilizziamo la distribuzione binomiale!\n",
        "import scipy as sp\n",
        "trials = 10\n",
        "pmf = [sp.stats.binom.pmf(x, trials, .5) for x in range(trials + 1)]"
      ],
      "execution_count": null,
      "outputs": []
    },
    {
      "cell_type": "code",
      "metadata": {
        "id": "BFag37SF5ma1"
      },
      "source": [
        "#con questo codice distribuiamo le nostre variabili sulla curva binomiale così da identificare i 3 tipi di dati\n",
        "#in base all'area dove vengono disposti. Area Verde = dati significativi, Area Blu = dati irrisori e Area Rossa\n",
        "# = dati da rifiutare.\n",
        "\n",
        "from boruta import BorutaPy\n",
        "from sklearn.ensemble import RandomForestRegressor\n",
        "import numpy as np\n",
        "###initialize Boruta\n",
        "forest = RandomForestRegressor(\n",
        "   n_jobs = -1,\n",
        "   max_depth = 5\n",
        ")\n",
        "boruta = BorutaPy(\n",
        "   estimator = forest,\n",
        "   n_estimators = 'auto',\n",
        "   max_iter = 10 # number of trials to perform\n",
        ")\n",
        "### fit Boruta (it accepts np.array, not pd.DataFrame)\n",
        "boruta.fit(np.array(X), np.array(Y))\n",
        "### print results\n",
        "green_area = X.columns[boruta.support_].to_list()\n",
        "blue_area = X.columns[boruta.support_weak_].to_list()\n",
        "print('features in the green area:', green_area)\n",
        "print('features in the blue area:', blue_area)"
      ],
      "execution_count": null,
      "outputs": []
    },
    {
      "cell_type": "markdown",
      "metadata": {
        "id": "3hvVlG3F6hs0"
      },
      "source": [
        "ABBIAMO SCOPERTO CHE:\n",
        "\n",
        "PER I DATI CATEGORICI QUESTI SONO QUELLI SIGNIFICATIVI:\n",
        "\n",
        "features in the green area:'ORD.DYSPNEA', 'ORD.IR', 'ORD.NEOPLASIA.last.5.years', 'ORD.IA', 'ORD.CARDIOVASCULAR.pathologies', 'ORD.DIABETES'\n",
        "\n",
        "PER I DATI NUMERICI QUESTI SONO QUELLI SIGNIFICATIVI:\n",
        "\n",
        "features in the green area: 'INT.AGE', 'INT.PaO2.PF', 'INT.SpO2.in.FA', 'NUM.PCR'"
      ]
    },
    {
      "cell_type": "markdown",
      "metadata": {
        "id": "xqYGbwJ3oOI3"
      },
      "source": [
        "# BORUTA con target label.2"
      ]
    },
    {
      "cell_type": "markdown",
      "metadata": {
        "id": "S7F7cb69o3ab"
      },
      "source": [
        "adesso vogliamo vedere quali dati sono significativi per fare previsioni sulla mortalità.\n",
        "\n",
        "quindi impostiamo il nostro target y= label.2"
      ]
    },
    {
      "cell_type": "code",
      "metadata": {
        "id": "Z9o42z80w5oY"
      },
      "source": [
        "import pandas as pd\n",
        "import numpy as np\n",
        "import scipy.stats as st\n",
        "import matplotlib.pyplot as plt\n",
        "%matplotlib inline\n",
        "\n",
        "\n",
        "covid = pd.read_csv('data_covnet_score-imputed_501.csv',sep=\",\")\n",
        "#pd.options.display.max_columns = None\n",
        "#pd.options.display.max_rows = None\n",
        "covid"
      ],
      "execution_count": null,
      "outputs": []
    },
    {
      "cell_type": "code",
      "metadata": {
        "id": "vcgRBHz6uWsj"
      },
      "source": [
        "# dati categorici\n",
        "X=covid.iloc[:,3:28]\n",
        "Y = covid.iloc[:,1]\n"
      ],
      "execution_count": null,
      "outputs": []
    },
    {
      "cell_type": "code",
      "metadata": {
        "id": "SJ2aHbMsypcJ"
      },
      "source": [
        "### make X_shadow by randomly permuting each column of X\n",
        "np.random.seed(42)\n",
        "X_shadow = X.apply(np.random.permutation)\n",
        "X_shadow.columns = ['shadow_' + feat for feat in X.columns]\n",
        "### make X_boruta by appending X_shadow to X\n",
        "X_boruta = pd.concat([X, X_shadow], axis = 1)\n",
        "X_boruta"
      ],
      "execution_count": null,
      "outputs": []
    },
    {
      "cell_type": "code",
      "metadata": {
        "id": "3S-eLfidytsK"
      },
      "source": [
        "### make X_shadow by randomly permuting each column of X\n",
        "np.random.seed(42)\n",
        "X_shadow = X.apply(np.random.permutation)\n",
        "X_shadow.columns = ['shadow_' + feat for feat in X.columns]\n",
        "### make X_boruta by appending X_shadow to X\n",
        "X_boruta = pd.concat([X, X_shadow], axis = 1)\n",
        "X_boruta"
      ],
      "execution_count": null,
      "outputs": []
    },
    {
      "cell_type": "markdown",
      "metadata": {
        "id": "cLjEAH35oU8Y"
      },
      "source": []
    },
    {
      "cell_type": "code",
      "metadata": {
        "id": "i3XSmc31y1fy"
      },
      "source": [
        "from sklearn.ensemble import RandomForestRegressor\n",
        "### fit a random forest (suggested max_depth between 3 and 7)\n",
        "forest = RandomForestRegressor(max_depth = 5, random_state = 42)\n",
        "forest.fit(X_boruta, Y)\n",
        "### store feature importances\n",
        "feat_imp_X = forest.feature_importances_[:len(X.columns)]\n",
        "feat_imp_shadow = forest.feature_importances_[len(X.columns):]\n",
        "### compute hits\n",
        "hits = feat_imp_X > feat_imp_shadow.max()\n",
        "print(hits,feat_imp_shadow.max())"
      ],
      "execution_count": null,
      "outputs": []
    },
    {
      "cell_type": "code",
      "metadata": {
        "id": "zYsIalNuy490"
      },
      "source": [
        "#prendo il valore massimo delle colonne radomizzate\n",
        "print('impression shadow')\n",
        "dataframe2=pd.DataFrame(feat_imp_shadow, columns=['feat_imp_shadow'])\n",
        "dataframe2.plot.bar(color='lightblue',legend=False)\n",
        "fig = plt.gcf()\n",
        "fig.set_size_inches(10,8)\n",
        "plt.axhline(y=feat_imp_shadow.max(), color='r', linestyle='--')\n",
        "plt.show()"
      ],
      "execution_count": null,
      "outputs": []
    },
    {
      "cell_type": "code",
      "metadata": {
        "id": "5fWDkwl4zAoA"
      },
      "source": [],
      "execution_count": null,
      "outputs": []
    },
    {
      "cell_type": "markdown",
      "metadata": {
        "id": "F4otoI5BYVcX"
      },
      "source": [
        "# (FFNN) FeedForward Neural Network"
      ]
    },
    {
      "cell_type": "code",
      "metadata": {
        "id": "X34AQQdky4L7"
      },
      "source": [],
      "execution_count": null,
      "outputs": []
    },
    {
      "cell_type": "code",
      "metadata": {
        "id": "oxuBHws-YgA6"
      },
      "source": [
        "import pandas as pd\n",
        "import numpy as np\n",
        "import scipy.stats as st\n",
        "import matplotlib.pyplot as plt\n",
        "%matplotlib inline\n",
        "\n",
        "\n",
        "covid = pd.read_csv('data_covnet_score-imputed_501.csv',sep=\",\")\n",
        "covid = covid.iloc[0:301,:]"
      ],
      "execution_count": null,
      "outputs": []
    },
    {
      "cell_type": "code",
      "metadata": {
        "id": "CdJHjAdQYi51"
      },
      "source": [
        "#10 fold cross validation, x=dati di partenza, y=dati da predirre\n",
        "\n",
        "Y= np.asarray(covid.iloc[:,2])\n",
        "X=covid[['ORD.DYSPNEA', 'ORD.IR', 'ORD.NEOPLASIA.last.5.years', 'ORD.IA',\n",
        "         'ORD.CARDIOVASCULAR.pathologies', 'ORD.DIABETES']]\n",
        "import warnings\n",
        "warnings.filterwarnings(\"ignore\")\n",
        "\n",
        "from sklearn.neural_network import MLPClassifier\n",
        "clf = MLPClassifier()#(solver='adam', alpha=1e-5,hidden_layer_sizes=(5, 2), random_state=2)\n",
        "\n",
        "from sklearn.model_selection import cross_val_score\n",
        "from sklearn import metrics\n",
        "#clf.fit(X_train, y_train)\n",
        "scores=cross_val_score(clf, X, Y, cv=10)\n",
        "scores"
      ],
      "execution_count": null,
      "outputs": []
    },
    {
      "cell_type": "code",
      "metadata": {
        "id": "OC_xG_K6YyZx"
      },
      "source": [
        "print(\"Accuracy: %0.2f (+/- %0.2f)\" % (scores.mean(), scores.std() * 2))"
      ],
      "execution_count": null,
      "outputs": []
    },
    {
      "cell_type": "code",
      "metadata": {
        "id": "Wh8_OYW_ejUs"
      },
      "source": [
        "#10 fold cross validation, x=dati di partenza, y=dati da predirre\n",
        "\n",
        "Y= np.asarray(covid.iloc[:,2])\n",
        "X=covid[['INT.AGE', 'INT.PaO2.PF', 'INT.SpO2.in.FA', 'NUM.PCR']]\n",
        "import warnings\n",
        "warnings.filterwarnings(\"ignore\")\n",
        "\n",
        "from sklearn.neural_network import MLPClassifier\n",
        "clf = MLPClassifier()#(solver='adam', alpha=1e-5,hidden_layer_sizes=(5, 2), random_state=2)\n",
        "\n",
        "from sklearn.model_selection import cross_val_score\n",
        "from sklearn import metrics\n",
        "#clf.fit(X_train, y_train)\n",
        "scores=cross_val_score(clf, X, Y, cv=10)\n",
        "scores"
      ],
      "execution_count": null,
      "outputs": []
    },
    {
      "cell_type": "code",
      "metadata": {
        "id": "7H1tMgcXetA5"
      },
      "source": [
        "print(\"Accuracy: %0.2f (+/- %0.2f)\" % (scores.mean(), scores.std() * 2))"
      ],
      "execution_count": null,
      "outputs": []
    }
  ]
}